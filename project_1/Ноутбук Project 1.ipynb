{
 "cells": [
  {
   "cell_type": "markdown",
   "id": "42289889-bd57-434e-9637-d3e354756316",
   "metadata": {},
   "source": [
    "<center> <img src = https://raw.githubusercontent.com/AndreyRysistov/DatasetsForPandas/main/hh%20label.jpg alt=\"drawing\" style=\"width:400px;\">"
   ]
  },
  {
   "cell_type": "markdown",
   "id": "829cb75b-f14e-4ba8-9195-7ba929a7d656",
   "metadata": {
    "tags": []
   },
   "source": [
    "# <center> Проект: Анализ вакансий на hh.ru\n",
    "   "
   ]
  },
  {
   "cell_type": "code",
   "execution_count": null,
   "id": "dccfde33-2452-43fb-a8a5-5c6ebc02a71d",
   "metadata": {},
   "outputs": [],
   "source": [
    "import pandas as pd\n",
    "import numpy as np\n",
    "import matplotlib.pyplot as plt\n",
    "import seaborn as sns\n",
    "import plotly.express as px\n",
    "from IPython.display import display"
   ]
  },
  {
   "cell_type": "markdown",
   "id": "0dc6476b-7a00-44f1-ac93-6e3baed33a29",
   "metadata": {},
   "source": [
    "# Исследование структуры данных"
   ]
  },
  {
   "cell_type": "markdown",
   "id": "889782b6-8d1c-410e-8920-e57f27917c64",
   "metadata": {},
   "source": [
    "1. Прочитайте данные с помощью библиотеки Pandas. Совет: перед чтением обратите внимание на разделитель внутри файла. "
   ]
  },
  {
   "cell_type": "code",
   "execution_count": null,
   "id": "bc39e68e-ed02-4ee2-9235-7258a2f867a8",
   "metadata": {},
   "outputs": [],
   "source": [
    "#ваш код здесь\n",
    "\n",
    "hh_database = pd.read_csv('data/dst-3.0_16_1_hh_database.csv', sep=';')"
   ]
  },
  {
   "cell_type": "markdown",
   "id": "b583485d-1f9e-494e-ada4-80ffff7c53d6",
   "metadata": {},
   "source": [
    "2. Выведите несколько первых (последних) строк таблицы, чтобы убедиться в том, что ваши данные не повреждены. Ознакомьтесь с признаками и их структурой."
   ]
  },
  {
   "cell_type": "code",
   "execution_count": null,
   "id": "5408c52c-3407-4a63-b25b-1aafa2322d28",
   "metadata": {},
   "outputs": [],
   "source": [
    "#ваш код здесь\n",
    "\n",
    "display(hh_database)"
   ]
  },
  {
   "cell_type": "markdown",
   "id": "ce084f54",
   "metadata": {},
   "source": [
    "<center> <img src = https://github.com/Serg-NSD/SkillFactory-Data_Science/blob/main/project_1/pict/struct_1.2.png?raw=true alt=\"drawing\" style=\"width:1500px;\">"
   ]
  },
  {
   "cell_type": "markdown",
   "id": "a2bfff1f-c975-4bf6-84be-2185d79dcb76",
   "metadata": {},
   "source": [
    "3. Выведите основную информацию о числе непустых значений в столбцах и их типах в таблице."
   ]
  },
  {
   "cell_type": "markdown",
   "id": "41bb59f3-53cc-4a67-a5bc-bedf573955e4",
   "metadata": {},
   "source": [
    "4. Обратите внимание на информацию о числе непустых значений."
   ]
  },
  {
   "cell_type": "code",
   "execution_count": null,
   "id": "d286cf4c-707b-4cd2-9190-7ab3587d04a1",
   "metadata": {},
   "outputs": [],
   "source": [
    "#ваш код здесь\n",
    "\n",
    "hh_database.info()"
   ]
  },
  {
   "cell_type": "markdown",
   "id": "390271df",
   "metadata": {},
   "source": [
    "<center> <img src = https://github.com/Serg-NSD/sf_data_science/blob/main/project_1/pict/struct_1.3-4.png?raw=true alt=\"drawing\" style=\"width:600px;\">"
   ]
  },
  {
   "cell_type": "markdown",
   "id": "9a8a2181-6914-448b-85f1-38f5f18b8a93",
   "metadata": {},
   "source": [
    "5. Выведите основную статистическую информацию о столбцах.\n"
   ]
  },
  {
   "cell_type": "code",
   "execution_count": null,
   "id": "be4e9bd3-a4db-4a20-82fb-6b02fc2957e0",
   "metadata": {},
   "outputs": [],
   "source": [
    "#ваш код здесь\n",
    "\n",
    "hh_database.describe(include='all')"
   ]
  },
  {
   "cell_type": "markdown",
   "id": "d289cf35",
   "metadata": {},
   "source": [
    "<center> <img src = https://github.com/Serg-NSD/sf_data_science/blob/main/project_1/pict/struct_1.5.png?raw=true alt=\"drawing\" style=\"width:1700px;\">"
   ]
  },
  {
   "cell_type": "markdown",
   "id": "8d62a9f3-f64e-4fe7-bdac-c4dffa16155e",
   "metadata": {},
   "source": [
    "# Преобразование данных"
   ]
  },
  {
   "cell_type": "markdown",
   "id": "93053d3d-b284-481a-9cf7-012d7014c0e0",
   "metadata": {},
   "source": [
    "1. Начнем с простого - с признака **\"Образование и ВУЗ\"**. Его текущий формат это: **<Уровень образования год выпуска ВУЗ специальность...>**. Например:\n",
    "* Высшее образование 2016 Московский авиационный институт (национальный исследовательский университет)...\n",
    "* Неоконченное высшее образование 2000  Балтийская государственная академия рыбопромыслового флота…\n",
    "Нас будет интересовать только уровень образования.\n",
    "\n",
    "Создайте с помощью функции-преобразования новый признак **\"Образование\"**, который должен иметь 4 категории: \"высшее\", \"неоконченное высшее\", \"среднее специальное\" и \"среднее\".\n",
    "\n",
    "Выполните преобразование, ответьте на контрольные вопросы и удалите признак \"Образование и ВУЗ\".\n",
    "\n",
    "Совет: обратите внимание на структуру текста в столбце **\"Образование и ВУЗ\"**. Гарантируется, что текущий уровень образования соискателя всегда находится в первых 2ух слов и начинается с заглавной буквы. Воспользуйтесь этим.\n",
    "\n",
    "*Совет: проверяйте полученные категории, например, с помощью метода unique()*\n"
   ]
  },
  {
   "cell_type": "code",
   "execution_count": null,
   "id": "3f069da6-fdc9-4ae7-b514-fafe2675efd3",
   "metadata": {},
   "outputs": [],
   "source": [
    "\"\"\" Преобразование данных. КОД к пункту 1 \"\"\"\n",
    "\n",
    "# Страховочная копия с предыдущего датафрейма.  \n",
    "hh_data1 = hh_database.copy()\n",
    "x = hh_data1['Образование и ВУЗ']\n",
    "\n",
    "# Преобразование признака \"Образование\".  \n",
    "# Сохранение списка в переменную education.  \n",
    "education = x.apply(lambda x: x.split(' ')[0] if x.split(' ')[1] in 'образование' else x.split(' ')[0]+' '+x.split(' ')[1])\n",
    "\n",
    "# Создание признака \"Образование\". Заполнение его данными. Вывод ответов  \n",
    "hh_data1['Образование'] = pd.DataFrame(education)\n",
    "print('\\nПроверка полученных категорий в признаке \"Образование\":',hh_data1['Образование'].unique())\n",
    "education_secondary = hh_data1[hh_data1['Образование']=='Среднее'].count()[12]\n",
    "print('\\nКоличество соискателей, имеющих средний уровень образования (школьное образование):', education_secondary)\n",
    "\n",
    "# удаление признака \"Образование и ВУЗ\"  \n",
    "hh_data1.drop('Образование и ВУЗ', axis=1, inplace=True)\n"
   ]
  },
  {
   "cell_type": "markdown",
   "id": "a47331f6",
   "metadata": {},
   "source": [
    "<center> <img src = https://github.com/Serg-NSD/sf_data_science/blob/main/project_1/pict/trans_2.1.png?raw=true alt=\"drawing\" style=\"width:1200px;\">"
   ]
  },
  {
   "cell_type": "markdown",
   "id": "4266f0b6-1646-492a-88b4-2f6a46502135",
   "metadata": {},
   "source": [
    "2. Теперь нас интересует столбец **\"Пол, возраст\"**. Сейчас он представлен в формате **<Пол , возраст , дата рождения >**. Например:\n",
    "* Мужчина , 39 лет , родился 27 ноября 1979 \n",
    "* Женщина , 21 год , родилась 13 января 2000\n",
    "Как вы понимаете, нам необходимо выделить каждый параметр в отдельный столбец.\n",
    "\n",
    "Создайте два новых признака **\"Пол\"** и **\"Возраст\"**. При этом важно учесть:\n",
    "* Признак пола должен иметь 2 уникальных строковых значения: 'М' - мужчина, 'Ж' - женщина. \n",
    "* Признак возраста должен быть представлен целыми числами.\n",
    "\n",
    "Выполните преобразование, ответьте на контрольные вопросы и удалите признак **\"Пол, возраст\"** из таблицы.\n",
    "\n",
    "*Совет: обратите внимание на структуру текста в столбце, в части на то, как разделены параметры пола, возраста и даты рождения между собой - символом ' , '. \n",
    "Гарантируется, что структура одинакова для всех строк в таблице. Вы можете воспользоваться этим.*\n"
   ]
  },
  {
   "cell_type": "code",
   "execution_count": null,
   "id": "0c44b350-72eb-4d65-8b54-a1fc449ba9fd",
   "metadata": {},
   "outputs": [],
   "source": [
    "\"\"\" Преобразование данных. КОД к пункту 2 \"\"\"\n",
    "\n",
    "# Страховочная копия с предыдущего датафрейма  \n",
    "hh_data2 = hh_data1.copy()\n",
    "x = hh_data2['Пол, возраст']\n",
    "\n",
    "# Списки пола (первая буква) и возраста (только целочисленное значение)  \n",
    "gender = x.apply(lambda x: x.split(',')[0][:1])\n",
    "age = x.apply(lambda x: int(x.split(',')[1][2:5]))\n",
    "\n",
    "# Внесение полученных списков в hh_data2  \n",
    "hh_data2 = hh_data2.assign(Пол = gender, Возраст = age)\n",
    "print('Проверка полученных категорий в признаке \"Пол\":',\n",
    "      hh_data2['Пол'].unique())\n",
    "print('Проверка полученных категорий в признаке \"Возраст\":',\n",
    "      hh_data2['Возраст'].unique())\n",
    "\n",
    "# удаление признака \"Пол, возраст\", вывод ответов.  \n",
    "hh_data2.drop('Пол, возраст', axis=1, inplace=True)\n",
    "female = hh_data2[hh_data2['Пол']=='Ж'].count() * 100\n",
    "print(f\"\\nЖенских резюме представлено: \\\n",
    "    {round(female[11]/len(hh_data2['Пол']), 2)}%\\n\")\n",
    "print(f\"Средний возраст соискателей: \\\n",
    "    {round(hh_data2['Возраст'].mean(), 1)}\\n\")\n"
   ]
  },
  {
   "cell_type": "markdown",
   "id": "27755738",
   "metadata": {},
   "source": [
    "<center> <img src = https://github.com/Serg-NSD/sf_data_science/blob/main/project_1/pict/trans_2.2.png?raw=true alt=\"drawing\" style=\"width:1200px;\">"
   ]
  },
  {
   "cell_type": "markdown",
   "id": "635c4d5d-f323-4c66-b428-50a088120aa0",
   "metadata": {},
   "source": [
    "3. Следующим этапом преобразуем признак **\"Опыт работы\"**. Его текущий формат - это: **<Опыт работы: n лет m месяцев, периоды работы в различных компаниях…>**. \n",
    "\n",
    "Из столбца нам необходимо выделить общий опыт работы соискателя в месяцах, новый признак назовем \"Опыт работы (месяц)\"\n",
    "\n",
    "Для начала обсудим условия решения задачи:\n",
    "* Во-первых, в данном признаке есть пропуски. Условимся, что если мы встречаем пропуск, оставляем его как есть (функция-преобразование возвращает NaN)\n",
    "* Во-вторых, в данном признаке есть скрытые пропуски. Для некоторых соискателей в столбце стоит значения \"Не указано\". Их тоже обозначим как NaN (функция-преобразование возвращает NaN)\n",
    "* В-третьих, нас не интересует информация, которая описывается после указания опыта работы (периоды работы в различных компаниях)\n",
    "* В-четвертых, у нас есть проблема: опыт работы может быть представлен только в годах или только месяцах. Например, можно встретить следующие варианты:\n",
    "    * Опыт работы 3 года 2 месяца…\n",
    "    * Опыт работы 4 года…\n",
    "    * Опыт работы 11 месяцев…\n",
    "    * Учитывайте эту особенность в вашем коде\n",
    "\n",
    "Учитывайте эту особенность в вашем коде\n",
    "\n",
    "В результате преобразования у вас должен получиться столбец, содержащий информацию о том, сколько месяцев проработал соискатель.\n",
    "Выполните преобразование, ответьте на контрольные вопросы и удалите столбец **\"Опыт работы\"** из таблицы.\n"
   ]
  },
  {
   "cell_type": "code",
   "execution_count": null,
   "id": "603cdbe4-0ec3-4106-8eaf-c73fcdd29165",
   "metadata": {},
   "outputs": [],
   "source": [
    "\"\"\" Преобразование данных. КОД к пункту 3 \"\"\"\n",
    "\n",
    "# Страховочная копия с предыдущего датафрейма  \n",
    "hh_data3 = hh_data2.copy()\n",
    "x = hh_data3['Опыт работы']\n",
    "check_list = [['0', '1', '2', '3', '4', '5', \n",
    "               '6', '7', '8', '9', '10', \n",
    "               '11', '12'],['л', 'г', 'Л', 'Г']]\n",
    "res=[]\n",
    "\n",
    "# Установка NaN, если ячейка пуста или в ней текст \"Не указано\"  \n",
    "hh_data3['Опыт работы'] = x.apply(lambda x: np.nan \\\n",
    "    if x=='Не указано' or x is np.nan else x)\n",
    "\n",
    "def func(i, k1, k2=None):\n",
    "    \"\"\"Auxiliary function\n",
    "\n",
    "    Args:\n",
    "        i  {integer}: a counter.\n",
    "        k1 {integer}: a index.\n",
    "        k2 {integer}: a index. Defaults to None.\n",
    "\n",
    "    Returns:\n",
    "        {string}: row element by specified indexes\n",
    "    \"\"\"\n",
    "    if k2 is None:\n",
    "        result = hh_data3['Опыт работы'][i].split(' ')[k1]\n",
    "    else:\n",
    "        result = hh_data3['Опыт работы'][i].split(' ')[k1][k2]\n",
    "    return result\n",
    "\n",
    "# Вычисление опыта работы в месяцах, занесение списка в res.  \n",
    "for i in range(0, len(x)):\n",
    "    if x[i] is np.nan:\n",
    "        res.append(np.nan)\n",
    "        continue\n",
    "    if func(i, 3, 0)=='м':\n",
    "        result = int(func(i, 2))\n",
    "    if func(i, 4) in check_list[0]:\n",
    "        result = int(func(i, 2)) * 12 + int(func(i, 4))\n",
    "    if func(i, 3, 0) in check_list[1] and func(i, 4) not in check_list[0]:\n",
    "        result = int(func(i, 2)) * 12\n",
    "    res.append(result)\n",
    "\n",
    "# Заполнение признака \"Опыт работы (месяц)\".  \n",
    "# Обработка данных, вывод ответа.  \n",
    "hh_data3['Опыт работы (месяц)'] = res\n",
    "hh_data3.drop('Опыт работы', axis=1, inplace=True)\n",
    "print('\\nМедианный опыт работы (в месяцах):\\n', \\\n",
    "    hh_data3['Опыт работы (месяц)'].median())\n"
   ]
  },
  {
   "cell_type": "markdown",
   "id": "a53e7f18",
   "metadata": {},
   "source": [
    "<center> <img src = https://github.com/Serg-NSD/sf_data_science/blob/main/project_1/pict/trans_2.3.png?raw=true alt=\"drawing\" style=\"width:400px;\">"
   ]
  },
  {
   "cell_type": "markdown",
   "id": "f3fdaec9-5fd3-4260-9cf5-1d7406b628a5",
   "metadata": {},
   "source": [
    "4. Хорошо идем! Следующий на очереди признак \"Город, переезд, командировки\". Информация в нем представлена в следующем виде: **<Город , (метро) , готовность к переезду (города для переезда) , готовность к командировкам>**. В скобках указаны необязательные параметры строки. Например, можно встретить следующие варианты:\n",
    "\n",
    "* Москва , не готов к переезду , готов к командировкам\n",
    "* Москва , м. Беломорская , не готов к переезду, не готов к командировкам\n",
    "* Воронеж , готов к переезду (Сочи, Москва, Санкт-Петербург) , готов к командировкам\n",
    "\n",
    "Создадим отдельные признаки **\"Город\"**, **\"Готовность к переезду\"**, **\"Готовность к командировкам\"**. При этом важно учесть:\n",
    "\n",
    "* Признак **\"Город\"** должен содержать только 4 категории: \"Москва\", \"Санкт-Петербург\" и \"город-миллионник\" (их список ниже), остальные обозначьте как \"другие\".\n",
    "\n",
    "    Список городов-миллионников:\n",
    "    \n",
    "   <code>million_cities = ['Новосибирск', 'Екатеринбург','Нижний Новгород','Казань', 'Челябинск','Омск', 'Самара', 'Ростов-на-Дону', 'Уфа', 'Красноярск', 'Пермь', 'Воронеж','Волгоград']\n",
    "    </code>\n",
    "    Инфорация о метро, рядом с которым проживает соискатель нас не интересует.\n",
    "* Признак **\"Готовность к переезду\"** должен иметь два возможных варианта: True или False. Обратите внимание, что возможны несколько вариантов описания готовности к переезду в признаке \"Город, переезд, командировки\". Например:\n",
    "    * … , готов к переезду , …\n",
    "    * … , не готова к переезду , …\n",
    "    * … , готова к переезду (Москва, Санкт-Петербург, Ростов-на-Дону)\n",
    "    * … , хочу переехать (США) , …\n",
    "    \n",
    "    Нас интересует только сам факт возможности или желания переезда.\n",
    "* Признак **\"Готовность к командировкам\"** должен иметь два возможных варианта: True или False. Обратите внимание, что возможны несколько вариантов описания готовности к командировкам в признаке \"Город, переезд, командировки\". Например:\n",
    "    * … , готов к командировкам , … \n",
    "    * … , готова к редким командировкам , …\n",
    "    * … , не готов к командировкам , …\n",
    "    \n",
    "    Нас интересует только сам факт готовности к командировке.\n",
    "    \n",
    "    Еще один важный факт: при выгрузки данных у некоторых соискателей \"потерялась\" информация о готовности к командировкам. Давайте по умолчанию будем считать, что такие соискатели не готовы к командировкам.\n",
    "    \n",
    "Выполните преобразования и удалите столбец **\"Город, переезд, командировки\"** из таблицы.\n",
    "\n",
    "*Совет: обратите внимание на то, что структура текста может меняться в зависимости от указания ближайшего метро. Учите это, если будете использовать порядок слов в своей программе.*\n"
   ]
  },
  {
   "cell_type": "code",
   "execution_count": null,
   "id": "1ea710ec-871b-431e-9462-c7d0fd87011b",
   "metadata": {},
   "outputs": [],
   "source": [
    "\"\"\" Преобразование данных. КОД к пункту 4 \"\"\"\n",
    "\n",
    "# Страховочная копия с предыдущего датафрейма.  \n",
    "hh_data4 = hh_data3.copy()\n",
    "\n",
    "# Создание признака \"Город\".  \n",
    "million_cities = [\n",
    "    'Новосибирск', 'Екатеринбург', 'Нижний Новгород', 'Казань', \n",
    "    'Челябинск', 'Омск', 'Самара', 'Ростов-на-Дону', 'Уфа', \n",
    "    'Красноярск', 'Пермь', 'Воронеж', 'Волгоград'\n",
    "    ]\n",
    "\n",
    "edit_list = hh_data4['Город, переезд, командировки'].tolist()\n",
    "\n",
    "#Очистка и форматирование списка \"Город, переезд, командировки\".  \n",
    "for i in range(0, len(hh_data4)):\n",
    "    edit_list[i] = (\" \".join(edit_list[i].split()).split(' , '))\n",
    "\n",
    "# Временное сохранение старого признака для дальнейшей работы.  \n",
    "hh_data4['Город, переезд, командировки'] = edit_list\n",
    "\n",
    "# Перезапись списка согласно условию.  \n",
    "for i in range(0, len(hh_data4)):\n",
    "    if edit_list[i][0] in million_cities:\n",
    "        edit_list[i] = 'город-миллионник'\n",
    "    elif edit_list[i][0] == 'Москва':\n",
    "        edit_list[i] = 'Москва'\n",
    "    elif edit_list[i][0] == 'Санкт-Петербург':\n",
    "        edit_list[i] = 'Санкт-Петербург'\n",
    "    else:\n",
    "        edit_list[i] = 'другие'\n",
    "\n",
    "hh_data4['Город'] = edit_list\n",
    "\n",
    "# Создание признака \"Готовность к переезду\".  \n",
    "res=[]\n",
    "sity_rem = hh_data4['Город, переезд, командировки']\n",
    "move_yes = ['готов к переез', 'готова к перее', \n",
    "          'хочу переехать', 'желаю переехат']\n",
    "move_no  = ['не готов к пер', 'не готова к пе', \n",
    "          'не хочу переез', 'не желаю перее']\n",
    "\n",
    "def func (i, ready):\n",
    "    \"\"\"Auxiliary function.\n",
    "\n",
    "    Args:\n",
    "        i  {integer}: a counter.\n",
    "        ready {boolean}: a boolean value.\n",
    "\n",
    "    Returns:\n",
    "        None\n",
    "    \"\"\"\n",
    "    if ready is True: \n",
    "        temp_list=move_yes\n",
    "    if ready is False: \n",
    "        temp_list=move_no\n",
    "    for y in range(0, len(sity_rem[i])):\n",
    "        if sity_rem[i][y][0:14] in temp_list:\n",
    "            res.append(ready)\n",
    "    return None\n",
    "\n",
    "# Заполнение списка условиями готовности к переезду.  \n",
    "for i in range(0, len(sity_rem)):\n",
    "    if sity_rem[i][1][0:14] in move_yes:\n",
    "        res.append(True)\n",
    "    else:\n",
    "        func(i, True)\n",
    "    if sity_rem[i][1][0:14] in move_no:\n",
    "        res.append(False)\n",
    "    else:\n",
    "        func(i, False)\n",
    "\n",
    "hh_data4['Готовность к переезду'] = res\n",
    "\n",
    "# Создание признака \"Готовность к командировке.  \n",
    "res.clear()\n",
    "tour=hh_data4['Город, переезд, командировки'].copy()\n",
    "ready_yes = ['готов к командировк', 'готова к командиров', \n",
    "             'готов к редким кома', 'готова к редким ком']\n",
    "ready_no  = ['не готов к командир', 'не готова к команди', \n",
    "             'не готов к редким к', 'не готова к редким ']\n",
    "\n",
    "# Заполнение списков с условиями готовности к командировке.  \n",
    "for i in range(0, len(tour)):\n",
    "    if tour[i][-1][0:19] in ready_yes:\n",
    "        res.append(True)\n",
    "        continue\n",
    "    if tour[i][-1][0:19] in ready_no:\n",
    "        res.append(False)\n",
    "        continue\n",
    "    res.append(False)\n",
    "\n",
    "# Обработка данных, вывод ответа\n",
    "hh_data4['Готовность к командировкам'] = res\n",
    "hh_data4.drop('Город, переезд, командировки', axis=1, inplace=True)\n",
    "candidate = hh_data4[hh_data4['Город']=='Санкт-Петербург'].count() * 100\n",
    "print(f\"\\nВ Санкт-Петербурге проживают {round(candidate[13]/len(hh_data4['Город']))}% соискателей.\\n\")\n",
    "loyal=hh_data4[(hh_data4['Готовность к переезду'] == True) & (hh_data4['Готовность к командировкам'] == True)].shape[0]*100\n",
    "print(f'Одновременно и к переездам, и к командировкам готовы {round(loyal/len(hh_data4))}% соискателей')\n"
   ]
  },
  {
   "cell_type": "markdown",
   "id": "1ae11102",
   "metadata": {},
   "source": [
    "<center> <img src = https://github.com/Serg-NSD/sf_data_science/blob/main/project_1/pict/trans_2.4.png?raw=true alt=\"drawing\" style=\"width:800px;\">"
   ]
  },
  {
   "cell_type": "markdown",
   "id": "0136ffee-0ead-4a6b-b608-61d1c753a438",
   "metadata": {},
   "source": [
    "5. Рассмотрим поближе признаки **\"Занятость\"** и **\"График\"**. Сейчас признаки представляют собой набор категорий желаемой занятости (полная занятость, частичная занятость, проектная работа, волонтерство, стажировка) и желаемого графика работы (полный день, сменный график, гибкий график, удаленная работа, вахтовый метод).\n",
    "На сайте hh.ru соискатель может указывать различные комбинации данных категорий, например:\n",
    "* полная занятость, частичная занятость\n",
    "* частичная занятость, проектная работа, волонтерство\n",
    "* полный день, удаленная работа\n",
    "* вахтовый метод, гибкий график, удаленная работа, полная занятость\n",
    "\n",
    "Такой вариант признаков имеет множество различных комбинаций, а значит множество уникальных значений, что мешает анализу. Нужно это исправить!\n",
    "\n",
    "Давайте создадим признаки-мигалки для каждой категории: если категория присутствует в списке желаемых соискателем, то в столбце на месте строки рассматриваемого соискателя ставится True, иначе - False.\n",
    "\n",
    "Такой метод преобразования категориальных признаков называется One Hot Encoding и его схема представлена на рисунке ниже:\n",
    "<img src=https://raw.githubusercontent.com/AndreyRysistov/DatasetsForPandas/main/ohe.jpg>\n",
    "Выполните данное преобразование для признаков \"Занятость\" и \"График\", ответьте на контрольные вопросы, после чего удалите их из таблицы"
   ]
  },
  {
   "cell_type": "code",
   "execution_count": null,
   "id": "5b3a8e79-f7ab-4008-b767-12aea3a205ea",
   "metadata": {},
   "outputs": [],
   "source": [
    "\"\"\" Преобразование данных. КОД к пункту 5 \"\"\"\n",
    "\n",
    "hh_data5 = hh_data4.copy()\n",
    "col_graph = hh_data5['График'].copy()\n",
    "col_busyn = hh_data5['Занятость'].copy()\n",
    "\n",
    "def creator_uniq_list(df, name_column):\n",
    "    \"\"\"Auxiliary function.\n",
    "       Сreates a unique sheet.\n",
    "\n",
    "    Args:\n",
    "        df {DataFrame}: DataFrame.\n",
    "        name_column {column name}: a string.\n",
    "\n",
    "    Returns:\n",
    "        {ist}: unique elements list.\n",
    "    \"\"\"\n",
    "    arr_uniq = df[name_column].unique()\n",
    "    str_uniq = ''\n",
    "    for i in range(len(arr_uniq)):\n",
    "        str_uniq = str_uniq+arr_uniq[i].strip()+','\n",
    "    str_uniq=str_uniq.replace(\", \", \",\")\n",
    "    lst_uniq=str_uniq.split(',')\n",
    "    lst_uniq.remove('')\n",
    "    supp_df = pd.DataFrame({'name': lst_uniq})\n",
    "    arr_categ_uniq = supp_df['name'].unique()\n",
    "    return arr_categ_uniq.tolist()\n",
    "\n",
    "# Создание списков о занятости и графике работы.  \n",
    "empl = creator_uniq_list(hh_data5, 'Занятость')\n",
    "graph = creator_uniq_list(hh_data5, 'График') \n",
    "\n",
    "def value():\n",
    "    global zero, one, two, three, four\n",
    "    zero=[]\n",
    "    one=[]\n",
    "    two=[]\n",
    "    three=[]\n",
    "    four=[]\n",
    "    return None\n",
    "\n",
    "# Функция очистки от пробелов.  \n",
    "def no_gap(df, x=0):\n",
    "    res = df[x].split(',')\n",
    "    result = [x.strip(' ') for x in res]\n",
    "    return result\n",
    "\n",
    "# Функция-фильтр: распределение bool по нужным переменным.  \n",
    "def filters(iter, logic):\n",
    "    zero.append(True) if iter == 0 and logic==True else None\n",
    "    zero.append(False) if iter == 0 and logic==False else None\n",
    "    one.append(True) if iter == 1 and logic==True else None\n",
    "    one.append(False) if iter == 1 and logic==False else None\n",
    "    two.append(True) if iter == 2 and logic==True else None\n",
    "    two.append(False) if iter == 2 and logic==False else None\n",
    "    three.append(True) if iter == 3 and logic==True else None\n",
    "    three.append(False) if iter == 3 and logic==False else None\n",
    "    four.append(True) if iter == 4 and logic==True else None\n",
    "    four.append(False) if iter == 4 and logic==False else None\n",
    "\n",
    "value()\n",
    "for i in range(0, len(col_graph)):\n",
    "    for j in range(0, 5):\n",
    "        if graph[j] in no_gap(col_graph, i):\n",
    "            filters(j, True)\n",
    "        else:\n",
    "            filters(j, False)\n",
    "\n",
    "hh_data5['Гибкий график'] = zero\n",
    "hh_data5['Полный день'] = one\n",
    "hh_data5['Сменный график'] = two\n",
    "hh_data5['Вахтовый метод'] = three\n",
    "hh_data5['Удалённая работа'] = four\n",
    "\n",
    "value()\n",
    "for i in range(len(col_busyn)):\n",
    "    for j in range(0, 5):\n",
    "        if empl[j] in no_gap(col_busyn, i):\n",
    "            filters(j, True)\n",
    "        else:\n",
    "            filters(j, False)\n",
    "\n",
    "hh_data5['Частичная занятость'] = zero\n",
    "hh_data5['Проектная работа'] = one\n",
    "hh_data5['Полная занятость'] = two\n",
    "hh_data5['Стажировка'] = three\n",
    "hh_data5['Волонтёрство'] = four\n",
    "\n",
    "# Обработка данных, вывод ответа.  \n",
    "loyal=hh_data5[(hh_data5['Проектная работа'] == True) & (hh_data5['Волонтёрство'] == True)].count()#.shape[0]#*100\n",
    "shift=hh_data5[(hh_data5['Вахтовый метод'] == True) & (hh_data5['Гибкий график'] == True)].count()#.shape[0]#*100\n",
    "print(f'\\nПроектную работу или волонтёрство ищут {loyal[21]} соискателей')\n",
    "print(f'\\nВахтовым методом или с гибким графиком хотят работать {shift[21]} соискателей\\n')\n",
    "hh_data5.drop(columns=['Занятость','График'], axis=1, inplace=True)\n"
   ]
  },
  {
   "cell_type": "markdown",
   "id": "aebcb65c",
   "metadata": {},
   "source": [
    "<center> <img src = https://github.com/Serg-NSD/sf_data_science/blob/main/project_1/pict/trans_2.5.png?raw=true alt=\"drawing\" style=\"width:800px;\">"
   ]
  },
  {
   "cell_type": "markdown",
   "id": "344f123c-b63b-43dd-a8a4-809c1f1bb443",
   "metadata": {},
   "source": [
    "6. (2 балла) Наконец, мы добрались до самого главного и самого важного - признака заработной платы **\"ЗП\"**. \n",
    "В чем наша беда? В том, что помимо желаемой заработной платы соискатель указывает валюту, в которой он бы хотел ее получать, например:\n",
    "* 30000 руб.\n",
    "* 50000 грн.\n",
    "* 550 USD\n",
    "\n",
    "Нам бы хотелось видеть заработную плату в единой валюте, например, в рублях. Возникает вопрос, а где взять курс валют по отношению к рублю?\n",
    "\n",
    "На самом деле язык Python имеет в арсенале огромное количество возможностей получения данной информации, от обращения к API Центробанка, до использования специальных библиотек, например pycbrf. Однако, это не тема нашего проекта.\n",
    "\n",
    "Поэтому мы пойдем в лоб: обратимся к специальным интернет-ресурсам для получения данных о курсе в виде текстовых файлов. Например, MDF.RU, данный ресурс позволяет удобно экспортировать данные о курсах различных валют и акций за указанные периоды в виде csv файлов. Мы уже сделали выгрузку курсов валют, которые встречаются в наших данных за период с 29.12.2017 по 05.12.2019. Скачать ее вы можете **на платформе**\n",
    "\n",
    "Создайте новый DataFrame из полученного файла. В полученной таблице нас будут интересовать столбцы:\n",
    "* \"currency\" - наименование валюты в ISO кодировке,\n",
    "* \"date\" - дата, \n",
    "* \"proportion\" - пропорция, \n",
    "* \"close\" - цена закрытия (последний зафиксированный курс валюты на указанный день).\n",
    "\n",
    "\n",
    "Перед вами таблица соответствия наименований иностранных валют в наших данных и их общепринятых сокращений, которые представлены в нашем файле с курсами валют. Пропорция - это число, за сколько единиц валюты указан курс в таблице с курсами. Например, для казахстанского тенге курс на 20.08.2019 составляет 17.197 руб. за 100 тенге, тогда итоговый курс равен - 17.197 / 100 = 0.17197 руб за 1 тенге.\n",
    "Воспользуйтесь этой информацией в ваших преобразованиях.\n",
    "\n",
    "<img src=https://raw.githubusercontent.com/AndreyRysistov/DatasetsForPandas/main/table.jpg>\n",
    "\n",
    "\n",
    "Осталось только понять, откуда брать дату, по которой определяется курс? А вот же она - в признаке **\"Обновление резюме\"**, в нем содержится дата и время, когда соискатель выложил текущий вариант своего резюме. Нас интересует только дата, по ней бы и будем сопоставлять курсы валют.\n",
    "\n",
    "Теперь у нас есть вся необходимая информация для того, чтобы создать признак \"ЗП (руб)\" - заработная плата в рублях.\n",
    "\n",
    "После ответа на контрольные вопросы удалите исходный столбец заработной платы \"ЗП\" и все промежуточные столбцы, если вы их создавали."
   ]
  },
  {
   "cell_type": "markdown",
   "id": "6d794257-61f5-4124-956b-67b92b9391a7",
   "metadata": {
    "tags": []
   },
   "source": [
    "Итак, давайте обсудим возможный алгоритм преобразования: \n",
    "1. Перевести признак \"Обновление резюме\" из таблицы с резюме в формат datetime и достать из него дату. В тот же формат привести признак \"date\" из таблицы с валютами.\n",
    "2. Выделить из столбца \"ЗП\" сумму желаемой заработной платы и наименование валюты, в которой она исчисляется. Наименование валюты перевести в стандарт ISO согласно с таблицей выше.\n",
    "3. Присоединить к таблице с резюме таблицу с курсами по столбцам с датой и названием валюты (подумайте, какой тип объединения надо выбрать, чтобы в таблице с резюме сохранились данные о заработной плате, изначально представленной в рублях). Значение close для рубля заполнить единицей 1 (курс рубля самого к себе)\n",
    "4. Умножить сумму желаемой заработной платы на присоединенный курс валюты (close) и разделить на пропорцию (обратите внимание на пропуски после объединения в этих столбцах), результат занести в новый столбец \"ЗП (руб)\".\n"
   ]
  },
  {
   "cell_type": "code",
   "execution_count": null,
   "id": "e91f87ed-e25c-4f96-9f92-b642e8c0b4fa",
   "metadata": {},
   "outputs": [],
   "source": [
    "\"\"\" Преобразование данных. КОД к пункту 6 \"\"\"\n",
    "\n",
    "# Создание страховочной копии предыдущего фрейма.  \n",
    "hh_data6 = hh_data5.copy()\n",
    "currency_data = pd.read_csv('data/ExchangeRates.csv', sep=',')\n",
    "currency_df = currency_data.copy()\n",
    "col_salar = hh_data6['ЗП'].copy()\n",
    "valut_data=[\"грн\", \"USD\", \"EUR\", \"белруб\", \"KGS\", \"сум\", \"AZN\", \"KZT\", \"руб\"]\n",
    "iso_data = [\"UAH\", \"USD\", \"EUR\", \"BYN\", \"KGS\", \"UZS\", \"AZN\", \"KZT\", \"RUB\"]\n",
    "salary = []\n",
    "code_ISO = []\n",
    "\n",
    "# Функция очистки от пробелов.  \n",
    "def no_gap(df, x=0):\n",
    "    res = df[x].split(',')\n",
    "    result = [x.strip(' ').replace(\".\", \"\").split() for x in res]\n",
    "    return result\n",
    "\n",
    "# Формирование списков зарплаты и наименования валюты.  \n",
    "for i in range(0, len(hh_data6)):\n",
    "    for j in range(0, 1):\n",
    "        salary.append(no_gap(col_salar, i)[0][0])\n",
    "    for z in range(0, 9):\n",
    "        if no_gap(col_salar, i)[0][1] == valut_data[z]:\n",
    "            code_ISO.append(iso_data[z])\n",
    "\n",
    "hh_data6['Зарплата'] = salary\n",
    "hh_data6['Валюта'] = code_ISO\n",
    "\n",
    "# Предварительная обработка таблиц.  \n",
    "currency_df.drop(columns=['per', 'time', 'vol'], axis=1, inplace=True)\n",
    "currency_df = currency_df.rename(columns={\n",
    "    'currency': 'Валюта', \n",
    "    'date': 'Дата', \n",
    "    'close': 'Цена закрытия', \n",
    "    'proportion': 'Пропорция'\n",
    "    })\n",
    "hh_data6 = hh_data6.rename(columns={'Обновление резюме': 'Дата'})\n",
    "\n",
    "# Первод признаков в формат datetime.  \n",
    "hh_data6['Дата'] = pd.to_datetime(hh_data6['Дата'])\n",
    "currency_df['Дата']=pd.to_datetime(currency_df['Дата'])\n",
    "\n",
    "# Объединение таблиц.  \n",
    "hh_data6 = pd.merge(\n",
    "    hh_data6, currency_df, \n",
    "    left_on=['Дата', 'Валюта'], \n",
    "    right_on=['Дата', 'Валюта'], how='left'\n",
    "    )\n",
    "\n",
    "# Создание списков дат из таблиц.  \n",
    "candidat_date = hh_data6['Дата'].tolist()\n",
    "candidat_date = [str(candidat_date[i]).split(' ')[0] \\\n",
    "    for i in range(len(hh_data6))]\n",
    "\n",
    "currency_date = currency_df['Дата'].tolist()\n",
    "currency_date = [str(currency_date[i]).split(' ')[0] \\\n",
    "    for i in range(len(currency_df))]\n",
    "\n",
    "# Создание списков для признаков:  \n",
    "# \"Цена закрытия\", \"Пропорция\", \"ЗП (руб)\", \"Дата\".  \n",
    "prop=[]\n",
    "close=[]\n",
    "zp=[]\n",
    "\n",
    "for i in range(0, len(hh_data6)):\n",
    "    if hh_data6['Валюта'][i] == 'RUB':\n",
    "        prop.append(1)\n",
    "        close.append(1)\n",
    "        zp.append(hh_data6['Зарплата'][i])\n",
    "        continue\n",
    "    for j in range(0, len(currency_df)):\n",
    "        if candidat_date[i] == currency_date[j] and \\\n",
    "        hh_data6['Валюта'][i] == currency_df['Валюта'][j]:\n",
    "            close.append(currency_df['Цена закрытия'][j])\n",
    "            prop.append(currency_df['Пропорция'][j])\n",
    "            z=float(hh_data6['Зарплата'][i]) * float(currency_df['Цена закрытия'][j]) / float(currency_df['Пропорция'][j])\n",
    "            zp.append(z)\n",
    "\n",
    "# Изменение формата даты. Занесение списков в новые признаки.  \n",
    "date_s = hh_data6['Дата']\n",
    "date_l = date_s.apply(lambda date_s: date_s.strftime(\"%m-%d-%Y\"))\n",
    "hh_data6['Цена закрытия'] = close\n",
    "hh_data6['Пропорция'] = prop\n",
    "hh_data6['ЗП (руб)'] = zp\n",
    "hh_data6['Дата'] = date_l\n",
    "\n",
    "# Удаление, переименование и расстановка признаков.  \n",
    "hh_data6.drop(columns=['ЗП', 'Зарплата'], axis=1, inplace=True)\n",
    "hh_data6.rename(columns= {'Дата': 'Обновление резюме'}, inplace=True)\n",
    "hh_data6 = hh_data6[[\n",
    "    'Пол', 'Возраст', 'ЗП (руб)', 'Валюта', 'Ищет работу на должность:', \n",
    "    'Город', 'Готовность к переезду', 'Готовность к командировкам', \n",
    "    'Полная занятость', 'Частичная занятость', 'Проектная работа', 'Стажировка', 'Волонтёрство', 'Гибкий график', 'Полный день', \n",
    "    'Сменный график', 'Вахтовый метод', 'Удалённая работа', \n",
    "    'Опыт работы (месяц)', 'Последнее/нынешнее место работы', \n",
    "    'Последняя/нынешняя должность', 'Обновление резюме', 'Авто', \n",
    "    'Образование', 'Цена закрытия', 'Пропорция'\n",
    "    ]]\n",
    "\n",
    "# Обработка данных, вывод ответа.  \n",
    "median_solary = hh_data6['ЗП (руб)'].median()\n",
    "print(f'\\nЖелаемая медианная заработная плата соискателей: \\\n",
    "{round(median_solary/1000)}\\n')\n",
    "\n",
    "# Сохранение DataFrame\n",
    "hh_data6.to_csv('data/HeadHunter.csv', index=False, sep=';')\n"
   ]
  },
  {
   "cell_type": "markdown",
   "id": "b42d4e58",
   "metadata": {},
   "source": [
    "<center> <img src = https://github.com/Serg-NSD/sf_data_science/blob/main/project_1/pict/trans_2.6.png?raw=true alt=\"drawing\" style=\"width:500px;\">"
   ]
  },
  {
   "cell_type": "markdown",
   "id": "7ea20ab6-04a7-40a0-adec-443a0e5a42c3",
   "metadata": {},
   "source": [
    "# Исследование зависимостей в данных"
   ]
  },
  {
   "cell_type": "markdown",
   "id": "968aed80-74ef-4ffb-b5bf-c65b84e9caea",
   "metadata": {},
   "source": [
    "1. Постройте распределение признака **\"Возраст\"**. Опишите распределение, отвечая на следующие вопросы: чему равна мода распределения, каковы предельные значения признака, в каком примерном интервале находится возраст большинства соискателей? Есть ли аномалии для признака возраста, какие значения вы бы причислили к их числу?\n",
    "*Совет: постройте гистограмму и коробчатую диаграмму рядом.*"
   ]
  },
  {
   "cell_type": "code",
   "execution_count": null,
   "id": "f2d62796-d400-4ec1-a675-88112739a50e",
   "metadata": {},
   "outputs": [],
   "source": [
    "\"\"\" Исследование зависимостей. КОД к пункту 1 \"\"\"\n",
    "\n",
    "hh_data = pd.read_csv('data/HeadHunter.csv', sep=';')\n",
    "histo_df = hh_data['Возраст']\n",
    "\n",
    "# Гистограмма c коробчатой диаграммой.  \n",
    "fig1 = px.histogram(\n",
    "    data_frame=histo_df, \n",
    "    x = 'Возраст', \n",
    "    marginal=\"box\",\n",
    "    template = 'simple_white+seaborn+gridon', \n",
    "    height=500, width=1000, nbins=100).update_layout(\n",
    "        title={\n",
    "            'x':0.5, 'text':'<b>Распределение признака \"Возраст\"</b>',\n",
    "            'font':{'size': 20, 'color':'blue', 'family':'Arial'}},\n",
    "        xaxis_title={'text': '<b><i>Возраст</i></b>',\n",
    "                     'font':{'size': 15, 'color':'#00009C', 'family':'Arial'}},\n",
    "        yaxis_title={'text': \"<br><b><i>        Плотность соискателей <i>(чел.)\\\n",
    "                     </i></b>\",\n",
    "                     'font':{'size': 15, 'color':'#00009C', 'family':'Arial'}},\n",
    "        showlegend=True).update_traces(marker_color='#318CE7');\n",
    "    \n",
    "fig1.add_hline(y=0.9)\n",
    "\n",
    "# Коробчатая диаграмма.  \n",
    "fig2 = px.box(data_frame=histo_df, x='Возраст',\n",
    "             template = 'simple_white+seaborn+gridon', \n",
    "             height=500, width=1000).update_layout(\n",
    "                 title={\n",
    "                     'x':0.5, 'text':'<b>Распределение признака \"Возраст\"</b>',\n",
    "                     'font':{'size': 20, 'color':'blue', 'family':'Arial'}},\n",
    "                 xaxis_title={'text': '<b><i>Возраст</i></b>',\n",
    "                              'font':{'size': 15, 'color':'#00009C','family':'Arial'}},\n",
    "                 yaxis_title={'font':{'size': 15, 'color':'#00009C','family':'Arial'}},\n",
    "                 showlegend=True).update_traces(marker_color='#318CE7');\n",
    "\n",
    "# Выводим диаграммы на экран.  \n",
    "fig1.show()\n",
    "fig2.show()\n",
    "\n",
    "# Вывод ответа.  \n",
    "print(f'Модальное значение возраста соискателей: {histo_df.mode()[0]} лет.')"
   ]
  },
  {
   "cell_type": "markdown",
   "id": "9d9e1374",
   "metadata": {},
   "source": [
    "<center> <img src = https://github.com/Serg-NSD/sf_data_science/blob/main/project_1/pict/res_3.1.png?raw=true alt=\"drawing\" style=\"width:900px;\">"
   ]
  },
  {
   "cell_type": "markdown",
   "id": "88967466-5070-4bea-9e71-b3efefdc6e4a",
   "metadata": {},
   "source": [
    "На диаграммах видно, что потенциальные выбросы находятся за верхней границей усов, в то время, как на нижней границе распределения ─ всё нормально, выбросов нет. Несмотря на это, медиана расположена практически посередине IQR, что в свою очередь говорит, что основной возраст соискателей лежит в границах 25-35 лет и это уравновешивает возраст. Максимальный возраст в выбросе ─ 100 лет. Ещё проверяя данный признак методом unique(), обратил на это внимание. \"За бортом\", в потенциальных выбросах, оказались соискатели старше 50 лет (и я в том числе, увы...). На гистограмме ясно видна мода равная 30 годам. То же значение даёт и метод mode(). Если бы не аномалии, то диаграмму можно было бы считать нормальной.<br>\n",
    "\n",
    "1. Мода распределения равна 30 годам.  \n",
    "2. Предельное знаечение признака \"Возраст\": максимум ─ 100 лет, минимум ─ 14 лет. Примерный интервал возраста большинства соискателей ─ от 25 до 35 лет.\n",
    "3. Для данного признака, на мой субъективный взгляд, можно считать аномалиями возраст от 65 до 100 лет. Возраст в 14 лет, возможно, тоже подходит к аномалиям, но может это какой-нибудь юный вундеркинд."
   ]
  },
  {
   "cell_type": "markdown",
   "id": "68377cfc-b378-43dc-ab7d-1195abf2c515",
   "metadata": {},
   "source": [
    "2. Постройте распределение признака **\"Опыт работы (месяц)\"**. Опишите данное распределение, отвечая на следующие вопросы: чему равна мода распределения, каковы предельные значения признака, в каком примерном интервале находится опыт работы большинства соискателей? Есть ли аномалии для признака опыта работы, какие значения вы бы причислили к их числу?\n",
    "*Совет: постройте гистограмму и коробчатую диаграмму рядом.*"
   ]
  },
  {
   "cell_type": "code",
   "execution_count": null,
   "id": "dd7df27a-e3e8-412e-a21a-5d389b71e891",
   "metadata": {},
   "outputs": [],
   "source": [
    "\"\"\" Исследование зависимостей. КОД к пункту 2 \"\"\"\n",
    "\n",
    "# Записываем в histo_df2 признак \"Опыт работы (месяц)\".  \n",
    "histo_df2 = hh_data['Опыт работы (месяц)']\n",
    "\n",
    "# Гистограмма c коробчатой диаграммой.  \n",
    "fig3 = px.histogram(\n",
    "    data_frame=histo_df2, \n",
    "    x = 'Опыт работы (месяц)', \n",
    "    marginal=\"box\",\n",
    "    template = 'simple_white+seaborn+gridon', \n",
    "    height=500, width=1000, nbins=80).update_layout(\n",
    "        title={\n",
    "            'x':0.5, 'text':'<b>Распределение признака \"Опыт работы (месяц)\"</b>',\n",
    "            'font':{'size': 20, 'color':'blue', 'family':'Arial'}},\n",
    "        xaxis_title={'text': '<b><i>Опыт работы (месяц)</i></b>',\n",
    "                     'font':{'size': 15, 'color':'#00009C', 'family':'Arial'}},\n",
    "        yaxis_title={'text': \"<br><b><i>        Плотность соискателей <i>(чел.)\\\n",
    "                     </i></b>\",\n",
    "                     'font':{'size': 15, 'color':'#00009C', 'family':'Arial'}},\n",
    "        showlegend=True).update_traces(marker_color='#318CE7');\n",
    "\n",
    "# Коробчатая диаграмма.  \n",
    "fig4 = px.box(data_frame=histo_df2, x='Опыт работы (месяц)',\n",
    "             template = 'simple_white+seaborn+gridon', \n",
    "             height=500, width=1000).update_layout(\n",
    "                 title={\n",
    "                     'x':0.5, 'text':'<b>Распределение признака \"Опыт работы (месяц)\"</b>',\n",
    "                     'font':{'size': 20, 'color':'blue', 'family':'Arial'}},\n",
    "                 xaxis_title={'text': '<b><i>Опыт работы (месяц)</i></b>',\n",
    "                              'font':{'size': 15, 'color':'#00009C','family':'Arial'}},\n",
    "                 yaxis_title={'font':{'size': 15, 'color':'#00009C','family':'Arial'}},\n",
    "                 showlegend=True).update_traces(marker_color='#318CE7');\n",
    "\n",
    "# Выводим диаграммы на экран.  \n",
    "fig3.show()\n",
    "fig4.show()\n",
    "\n",
    "# Вывод ответа.  \n",
    "print(f'Максимальный опыт работы в месяцах: {histo_df2.max()}')\n",
    "print(f'Модальное значение распределения: {histo_df2.mode()[0]}')"
   ]
  },
  {
   "cell_type": "markdown",
   "id": "31519364",
   "metadata": {},
   "source": [
    "<center> <img src = https://github.com/Serg-NSD/sf_data_science/blob/main/project_1/pict/res_3.2.png?raw=true alt=\"drawing\" style=\"width:900px;\">"
   ]
  },
  {
   "cell_type": "markdown",
   "id": "7305c34b-089d-4986-be9f-5fa1c0ee281c",
   "metadata": {},
   "source": [
    "Медиана практически посередине, но выброс в 1188 месяцев вытягивает правый ус. Большое количество соискателей в нормальном диапазоне опыта работы компенсирует этот выброс. У контингента основной опыт работы, расположенный между Q25 и Q75 составляет диапазон от 57 до 154 месяцев. Верхняя граница показывает на опыт работы в 299 месяцев. Там сосредоточено 519 соискателей. Наблюдается ожидаемая закономерность: чем больше опыт, тем меньше соискателей. Это происходит потому, что с увеличением опыта у человека, также увеличивается и его возраст. Хоть возраст здесь и не показан, но это но эта взаимосвязь понятна. Основные выбросы начинаются с 300 месяцев и заканчиваются в районе 586. Дальше уже идут единичные выбросы. Мода приходится на 5249 соискателей, с опытом работы от 80 до 99 месяцев."
   ]
  },
  {
   "cell_type": "markdown",
   "id": "f2fe0acb-ab1a-4e15-9326-2560e22d73c1",
   "metadata": {},
   "source": [
    "3. Постройте распределение признака **\"ЗП (руб)\"**. Опишите данное распределение, отвечая на следующие вопросы: каковы предельные значения признака, в каком примерном интервале находится заработная плата большинства соискателей? Есть ли аномалии для признака возраста? Обратите внимание на гигантские размеры желаемой заработной платы.\n",
    "*Совет: постройте гистограмму и коробчатую диаграмму рядом.*\n"
   ]
  },
  {
   "cell_type": "code",
   "execution_count": null,
   "id": "6271f8ad-bd2e-4196-ae4a-5b39c4c1010e",
   "metadata": {},
   "outputs": [],
   "source": [
    "\"\"\" Исследование зависимостей. Код к пункту 4 \"\"\"\n",
    "\n",
    "# Записываем в histo_df3 признак \"ЗП (руб)\".  \n",
    "histo_df3 = hh_data['ЗП (руб)']\n",
    "\n",
    "# Гистограмма c коробчатой диаграммой.  \n",
    "fig5 = px.histogram(\n",
    "    data_frame=histo_df3, \n",
    "    x = 'ЗП (руб)', \n",
    "    marginal=\"box\",\n",
    "    template = 'simple_white+seaborn+gridon', \n",
    "    log_y=True,\n",
    "    height=500, width=1000, nbins=130).update_layout(\n",
    "        title={\n",
    "            'x':0.5, 'text':'<b>Распределение признака \"ЗП (руб)\"</b>',\n",
    "            'font':{'size': 20, 'color':'blue', 'family':'Arial'}},\n",
    "        xaxis_title={'text': '<b><i>Желаемая зарплата (руб)</i></b>',\n",
    "                     'font':{'size': 15, 'color':'#00009C', 'family':'Arial'}},\n",
    "        yaxis_title={'text': \"<br><b><i>        Плотность соискателей <i>(чел.)\\\n",
    "                     </i></b>\",\n",
    "                     'font':{'size': 15, 'color':'#00009C', 'family':'Arial'}},\n",
    "        showlegend=True).update_traces(marker_color='#318CE7');\n",
    "\n",
    "# Коробчатая диаграмма.  \n",
    "fig6 = px.box(data_frame=histo_df3, x='ЗП (руб)',\n",
    "             template = 'simple_white+seaborn+gridon', \n",
    "             height=500, width=1000).update_layout(\n",
    "                 title={\n",
    "                     'x':0.5, 'text':'<b>Распределение признака \"ЗП (руб)\"</b>',\n",
    "                     'font':{'size': 20, 'color':'blue', 'family':'Arial'}},\n",
    "                 xaxis_title={'text': '<b><i>Желаемая зарплата (руб)</i></b>',\n",
    "                              'font':{'size': 15, 'color':'#00009C','family':'Arial'}},\n",
    "                 yaxis_title={'font':{'size': 15, 'color':'#00009C','family':'Arial'}},\n",
    "                 showlegend=True).update_traces(marker_color='#318CE7');\n",
    "\n",
    "# Выводим диаграммы на экран.  \n",
    "fig5.show()\n",
    "fig6.show()\n",
    "\n",
    "# Вывод ответа.  \n",
    "print(f'Модальное значение распределения: {histo_df3.mode()[0]}')"
   ]
  },
  {
   "cell_type": "markdown",
   "id": "0729fe0a",
   "metadata": {},
   "source": [
    "<center> <img src = https://github.com/Serg-NSD/sf_data_science/blob/main/project_1/pict/res_3.3.png?raw=true alt=\"drawing\" style=\"width:900px;\">"
   ]
  },
  {
   "cell_type": "markdown",
   "id": "6c39ca13-225e-48f7-a85c-ab07a6cc852a",
   "metadata": {},
   "source": [
    "Диаграмма сильно \"сплюснута\" из-за большого аномального выброса в виде желаемой зарплаты в 24.300.000 рублей. Модальное значение по такому графику определить крайне затруднительно. Если поставить разрешение в 2000 бинсов, то между 40-60 можно взять среднее и приблизительно определить моду как 50 тыс. Зарплата большинства соискателей между квантилями Q25 и Q75 соответствует диапазону от 37 до 95 тыс. рублей. Конечно же, видны аномалии невооружённым глазом. Это дикий выброс в 24 млн. руб и потенциальные выбросы, лежащие выше 180 тыс. рублей. Хотя я бы предпочёл повысить верхнюю границу до 500 тыс. Медиана опять, как ни странно, лежит почти посередине. Аномалии единичны, а зарплата большинства соискателей находится в IRQ, что и приводит к такому эффекту. Но максимальный выброс всю картину чрезвычайно портит, прямо-таки, ложка дёгтя.  "
   ]
  },
  {
   "cell_type": "markdown",
   "id": "eab2206d-d95b-468b-8e5f-34381abf0ce7",
   "metadata": {},
   "source": [
    "4. Постройте диаграмму, которая показывает зависимость **медианной** желаемой заработной платы (**\"ЗП (руб)\"**) от уровня образования (**\"Образование\"**). Используйте для диаграммы данные о резюме, где желаемая заработная плата меньше 1 млн рублей.\n",
    "*Сделайте выводы по представленной диаграмме: для каких уровней образования наблюдаются наибольшие и наименьшие уровни желаемой заработной платы? Как вы считаете, важен ли признак уровня образования при прогнозировании заработной платы?*"
   ]
  },
  {
   "cell_type": "code",
   "execution_count": null,
   "id": "80defb23-bfb1-4a18-8be6-bf36aa7165d5",
   "metadata": {},
   "outputs": [],
   "source": [
    "\"\"\" Исследование зависимостей. КОД к пункту 4 \"\"\"\n",
    "\n",
    "# Фильтрация DataFrame до 1000000 рублей.  \n",
    "before = hh_data[hh_data['ЗП (руб)'] < 1000000]\n",
    "\n",
    "# Группировка по признакам.  \n",
    "hist_df4 = before.groupby(['Образование'], as_index=False)\\\n",
    "[['ЗП (руб)']].median()\n",
    "\n",
    "# Установка параметров диаграммы.  \n",
    "titls = {'x':0.5,\n",
    "         'text':'<b>Зависимость медианной желаемой зарплаты<br>от уровня образования</b>','font':{'size': 20, 'color':'blue','family':'Arial'}}\n",
    "xaxis_titl = {'text': '<b>Образование</b>','font':{'size': 16, \n",
    "              'color':'darkgreen', 'family':'Arial'}}\n",
    "yaxis_titl = {'text': \"<br></br><b>Медианная желаемая зарплата</b><br></br>\",\n",
    "              'font':{'size': 16, 'color':'darkgreen', 'family':'Arial'}}\n",
    "\n",
    "# Построение диаграммы.  \n",
    "fig7 = px.bar(\n",
    "    data_frame=hist_df4,\n",
    "    x='Образование',\n",
    "    y='ЗП (руб)',\n",
    "    barmode='group',\n",
    "    template = 'simple_white+gridon+seaborn',\n",
    "    width=700,\n",
    ").update_layout(title=titls, xaxis_title=xaxis_titl, yaxis_title=yaxis_titl)\n",
    "\n",
    "# Вывод диаграммы на экран\n",
    "fig7.show()"
   ]
  },
  {
   "cell_type": "markdown",
   "id": "79eae7cd",
   "metadata": {},
   "source": [
    "<center> <img src = https://github.com/Serg-NSD/sf_data_science/blob/main/project_1/pict/res_3.4.png?raw=true alt=\"drawing\" style=\"width:800px;\">"
   ]
  },
  {
   "cell_type": "markdown",
   "id": "dc463319-3f85-47dd-b66e-aecb0be0c76f",
   "metadata": {},
   "source": [
    "В диаграмме зависимости медианной зарплаты от уровня образования видно, что наибольший уровень зарплаты наблюдается в категории \"Высшее\", а наименьшее ─ в категориях \"Среднее\" и \"Среднее специальное\". У этих двух категорий медианная зарплата одинакова: 40 тыс. рублей. Из графика для себя можно сделать конкретный вывод, что уровень образования важен при прогнозировании заработной платы. Да и вообще, в жизни."
   ]
  },
  {
   "cell_type": "markdown",
   "id": "0112af31-f6b0-4e3b-82ab-71296e752e5e",
   "metadata": {},
   "source": [
    "5. Постройте диаграмму, которая показывает распределение желаемой заработной платы (**\"ЗП (руб)\"**) в зависимости от города (**\"Город\"**). Используйте для диаграммы данные о резюме, где желая заработная плата меньше 1 млн рублей.\n",
    "*Сделайте выводы по полученной диаграмме: как соотносятся медианные уровни желаемой заработной платы и их размах в городах? Как вы считаете, важен ли признак города при прогнозировании заработной платы?*"
   ]
  },
  {
   "cell_type": "code",
   "execution_count": null,
   "id": "973b0cfc-a972-470a-8b4a-68744ef220c4",
   "metadata": {},
   "outputs": [],
   "source": [
    "\"\"\" Исследование зависимостей. КОД к пункту 5 \"\"\"\n",
    "\n",
    "# Фильтрация DataFrame до 1000000 рублей.  \n",
    "before = hh_data[hh_data['ЗП (руб)'] < 1000000]\n",
    "\n",
    "# Устанавка параметров метода update_layout для plotly.express.histogram:\n",
    "titls = {\n",
    "    'x':0.5,\n",
    "    'text':'<b>Распределение желаемой ЗП в зависимости от города</b>',\n",
    "    'font':{'size': 20, 'color':'blue','family':'Arial'}}\n",
    "xaxis_titl = {\n",
    "    'text': '<b>Желаемая заработная плата до 1000000 рублей</b>',\n",
    "    'font':{'size': 16, 'color':'darkgreen', 'family':'Arial'}}\n",
    "yaxis_titl = {\n",
    "    'text': \"<br></br><b>Соискатели <i>(чел.)</i></b><br></br>\",\n",
    "    'font':{'size': 16, 'color':'darkgreen', 'family':'Arial'}}\n",
    "legend_titl = {\n",
    "    'text':'<b>           Города</b>','font':{'size':12.5, 'color': 'darkblue'}}\n",
    "lgd = {'x':0.785, 'y': 0.72, 'font':{'size':12, 'color': 'darkred'}}\n",
    "\n",
    "# Построение гистограммы\n",
    "fig = px.histogram(\n",
    "    data_frame= before, x = 'ЗП (руб)', \n",
    "    marginal='box',\n",
    "    template = 'simple_white+seaborn+gridon', \n",
    "    color='Город', height=500, width=1000, \n",
    "    color_discrete_map={'другие': \"#69C721\", 'Санкт-Петербург': \"#4D98FA\", 'Москва': 'red', 'город-миллионник': '#DBDE15'}, \n",
    "    nbins=130).update_layout(\n",
    "        title=titls, xaxis_title=xaxis_titl, \n",
    "        yaxis_title=yaxis_titl, showlegend=True, \n",
    "        legend_title=legend_titl, legend=lgd)\n",
    "\n",
    "#Текст в легенде, расшифровывающий цвет (для всех диаграмм)\n",
    "fig.data[0].name='<b>другие</b>'\n",
    "fig.data[2].name='<b>Москва</b>'\n",
    "fig.data[4].name='<b>город-миллионник</b>'\n",
    "fig.data[6].name='<b>Санкт-Петербург</b>'\n",
    "\n",
    "\n",
    "# Коробчатая диаграмма.  \n",
    "fig6 = px.box(data_frame=before, \n",
    "              x='ЗП (руб)', \n",
    "              color='Город',\n",
    "              template = 'simple_white+seaborn+gridon', \n",
    "              height=500, width=1000).update_layout(\n",
    "                 title={\n",
    "                     'x':0.5, \n",
    "                     'text':'<b>Распределение желаемой ЗП в зависмости от города</b>',\n",
    "                     'font':{'size': 20, 'color':'blue', 'family':'Arial'}},\n",
    "                 xaxis_title={\n",
    "                     'text': '<b><i>Желаемая заработная плата до 1000000 рублей</i></b>', 'font':{'size': 15, 'color':'#00009C','family':'Arial'}},\n",
    "                 yaxis_title={'font':{\n",
    "                     'size': 15, 'color':'#00009C',                                      'family':'Arial'}},\n",
    "                 showlegend=True).update_traces(marker_color='#318CE7');\n",
    "\n",
    "# Вывод графиков\n",
    "fig.show()\n",
    "fig6.show()"
   ]
  },
  {
   "cell_type": "markdown",
   "id": "4204a561",
   "metadata": {},
   "source": [
    "<center> <img src = https://github.com/Serg-NSD/sf_data_science/blob/main/project_1/pict/res_3.5.png?raw=true alt=\"drawing\" style=\"width:1000px;\">"
   ]
  },
  {
   "cell_type": "markdown",
   "id": "2710ce73-2e81-4e38-b52f-833cd14ba47a",
   "metadata": {
    "tags": []
   },
   "source": [
    "Самый большой медианный уровень в Москве. В основном из-за величины заработной платы. Например, в категориях \"другие\" и \"город-миллионник\" уже закрыта квантиль 75%, идёт ус и только тут начинается Q25 в Москве. Медиана (85 тыс.) начинается с середины уса \"других\" и \"городов-миллионников\". Меньшая медиана также и у Санкт_Петербурга ─ 60 тыс. Меньше всего потенциальных выбросов у городов-миллионников, а самые большие аномалии, как ни странно, у \"других\". На них и виден выброс в 923.983 тыс рублей. Количественное соотношение по соискателям хорошо видно на многоуровневой гистограмме: максимум приходится на категорию \"другие\", минимум ─ на Санкт-Петербург. Интересны небольшие московские всплески при увеличении зарплаты. Приходятся на 205, 255, 305, 355. Признак города при прогнозировании заработной платы, на мой взгляд, важен. В разных городах ─ разные зарплаты."
   ]
  },
  {
   "cell_type": "markdown",
   "id": "3bfcfdaf-755d-4d2b-8ed8-326201dc07ab",
   "metadata": {},
   "source": [
    "6. Постройте **многоуровневую столбчатую диаграмму**, которая показывает зависимость медианной заработной платы (**\"ЗП (руб)\"**) от признаков **\"Готовность к переезду\"** и **\"Готовность к командировкам\"**. Проанализируйте график, сравнив уровень заработной платы в категориях."
   ]
  },
  {
   "cell_type": "code",
   "execution_count": null,
   "id": "ad3f270f-2991-47eb-929b-e8f88a55b0d1",
   "metadata": {},
   "outputs": [],
   "source": [
    "\"\"\" Исследование зависимостей. КОД к пункту 6 \"\"\"\n",
    "\n",
    "# Группировка признаков \"Готовность к переезду\" и \"Готовность к командировкам\"\n",
    "# в зависимости от признака \"ЗП (руб)\".  \n",
    "bar_data = hh_data.groupby(by=['Готовность к переезду', 'Готовность к командировкам'], as_index=False)[['ЗП (руб)']].median()\n",
    "\n",
    "# Устанавка параметров метода update_layout для plotly.express.histogram:  \n",
    "titls = {\n",
    "    'x':0.5,\n",
    "    'text':'<b>Зависимость медианной ЗП от признаков<br>\"Готовность к переезду\" и \"Готовность к командировкам\"</b>',\n",
    "    'font':{'size': 17, 'color':'blue','family':'Arial'}}\n",
    "xaxis_titl = {\n",
    "    'text': '<b>Готовность к командировкам</b>',\n",
    "    'font':{'size': 16, 'color':'darkred', 'family':'Arial'}}\n",
    "yaxis_titl = {\n",
    "    'text': \"<br></br><b>Желаемая медианная ЗП <i>(руб.)</i></b><br></br>\",\n",
    "    'font':{'size': 16, 'color':'darkred', 'family':'Arial'}}\n",
    "legend_titl = {\n",
    "    'text':'<b> Готовность<br> к переезду</b>',\n",
    "    'font':{'size':12.5, 'color': 'darkblue'}}\n",
    "lgd = {'x':1, 'y': 1, 'font':{'size':12, 'color': 'darkred'}}\n",
    "\n",
    "# Построение гистограммы\n",
    "fig = px.bar(\n",
    "    data_frame=bar_data,\n",
    "    x='Готовность к переезду',\n",
    "    y='ЗП (руб)',\n",
    "    color='Готовность к командировкам',\n",
    "    barmode='group',\n",
    "    color_discrete_sequence=[\"#2F63FF\", \"#00CEC7\"],\n",
    "    width=650,\n",
    "    height=650,\n",
    "    ).update_layout(\n",
    "        title=titls, legend=lgd, legend_title=legend_titl,\n",
    "        xaxis_title=xaxis_titl, yaxis_title=yaxis_titl\n",
    "        );\n",
    "fig.data[0].name='<b>False</b>'\n",
    "fig.data[1].name='<b>True</b>'\n",
    "\n",
    "# Построение столбчатой диаграммы\n",
    "fig2 = px.histogram(\n",
    "    data_frame= bar_data, \n",
    "    x = 'Готовность к переезду', \n",
    "    y='ЗП (руб)',\n",
    "    color='Готовность к командировкам', \n",
    "    color_discrete_sequence=['#2F63FF', '#00CEC7'],\n",
    "    height=700,\n",
    "    width=650, \n",
    "    nbins=130\n",
    "    ).update_layout(\n",
    "        title=titls, xaxis_title=xaxis_titl, \n",
    "        yaxis_title=yaxis_titl, showlegend=True, \n",
    "        legend=lgd, legend_title=legend_titl\n",
    "      );\n",
    "fig2.data[0].name='<b>False</b>'\n",
    "fig2.data[1].name='<b>True</b>'\n",
    "\n",
    "# Вывод на экран\n",
    "fig.show()\n",
    "fig2.show()"
   ]
  },
  {
   "cell_type": "markdown",
   "id": "8a257e67",
   "metadata": {},
   "source": [
    "<center> <img src = https://github.com/Serg-NSD/sf_data_science/blob/main/project_1/pict/res_3.6.1.png?raw=true alt=\"drawing\" style=\"width:600px;\">\n",
    "<center> <img src = https://github.com/Serg-NSD/sf_data_science/blob/main/project_1/pict/res_3.6.2.png?raw=true alt=\"drawing\" style=\"width:600px;\">"
   ]
  },
  {
   "cell_type": "markdown",
   "id": "c95c8784",
   "metadata": {},
   "source": [
    "По двум графикам (многоуровневая гистограмма и столбчатая диаграмма) можно выявить следующее. \n",
    "Распределим желаемую медианную заработную плату:<br>\n",
    "\n",
    "1. зарплата соискателей готовых к переезду и к командировкам: <i>65.8446 (66 тыс.) рублей</i>;  \n",
    "2. зарплата соискателей готовых к переезду и не готовых к командировкам: <i>50 тыс. рублей</i>;\n",
    "3. зарплата соискателей не готовых к переезду и готовых к командировкам: <i>60 тыс. рублей</i>;\n",
    "4. зарплата соискателей не готовых ни к переезду, ни к командировкам: <i>40 тыс. рублей</i>.  \n",
    "  \n",
    "Из этого можно сделать вывод, что максимальная зарплата ожидает тех, кто готов к командировкам и к переезду. На втором месте идёт готовность к командировкам. Самая неважная зарплата будет у тех, кто ни к чему не готов."
   ]
  },
  {
   "cell_type": "markdown",
   "id": "7b02bb86-0546-40fb-94a4-242f050a5c57",
   "metadata": {},
   "source": [
    "7. Постройте сводную таблицу, иллюстрирующую зависимость **медианной** желаемой заработной платы от возраста (**\"Возраст\"**) и образования (**\"Образование\"**). На полученной сводной таблице постройте **тепловую карту**. Проанализируйте тепловую карту, сравнив показатели внутри групп."
   ]
  },
  {
   "cell_type": "code",
   "execution_count": null,
   "id": "5a0e32a4-e68a-4365-8a39-2fe24c542c36",
   "metadata": {},
   "outputs": [],
   "source": [
    "\"\"\" Исследование зависимостей. КОД к пункту 7 \"\"\"\n",
    "\n",
    "# Создание сводной таблицы.  \n",
    "summary_tabel=hh_data.pivot_table(values='ЗП (руб)', index='Образование', columns='Возраст', fill_value=0, aggfunc='median')\n",
    "print('Сводная таблица иллюстрирующая зависимость медианной желаемой ЗП от \\\n",
    "возраста и образования.')\n",
    "display(summary_tabel)\n",
    "\n",
    "# Построение тепловой карты.  \n",
    "fig = px.imshow(\n",
    "    summary_tabel, aspect='auto',\n",
    "    labels=dict(color='<b>ЗП (руб)</b>'),\n",
    "    x=[\n",
    "        '<b>14</b>','<b>15</b>','<b>16</b>','<b>17</b>','<b>18</b>','<b>19</b>','<b>20</b>','<b>21</b>','<b>22</b>','<b>23</b>','<b>24</b>','<b>25</b>','<b>26</b>','<b>27</b>','<b>28</b>','<b>29</b>','<b>30</b>','<b>31</b>','<b>32</b>','<b>33</b>','<b>34</b>','<b>35</b>','<b>36</b>','<b>37</b>','<b>38</b>','<b>39</b>','<b>40</b>','<b>41</b>','<b>42</b>','<b>43</b>',\n",
    "        '<b>44</b>','<b>45</b>','<b>46</b>','<b>47</b>','<b>48</b>','<b>49</b>','<b>50</b>','<b>51</b>','<b>52</b>','<b>53</b>','<b>54</b>','<b>55</b>','<b>56</b>','<b>57</b>','<b>58</b>','<b>59</b>','<b>60</b>','<b>61</b>','<b>62</b>','<b>63</b>','<b>64</b>','<b>65</b>','<b>66</b>','<b>67</b>','<b>68</b>','<b>69</b>','<b>70</b>','<b>71</b>','<b>72</b>','<b>73</b>',\n",
    "        '<b>76</b>','<b>77</b>','<b>100</b>'],\n",
    "    y=[\n",
    "        '<b>Высшее </b>',\n",
    "        '<b>Неоконченное <br>высшее </b>',\n",
    "        '<b>Среднее </b>',\n",
    "        '<b>Среднее <br>специальное </b>'],\n",
    "    height=500, width=1000)\n",
    "\n",
    "# Установка параметров для тепловой карты.  \n",
    "fig.update_layout(\n",
    "    title_text='<b>Тепловая карта зависимости медианной желаемой ЗП от возраста и образования</b>', \n",
    "    title_x=0.5, \n",
    "    title_font={'size': 20, 'color':'blue','family':'Arial'}, \n",
    "    margin={\"r\":50,\"t\":50,\"l\":50,\"b\":50}, \n",
    "    xaxis_title={'text': '<b>Возраст соискателя</b>',\n",
    "                 'font':{'size': 16, 'color':'darkblue', 'family':'Arial'}}, \n",
    "    yaxis_title={'text': '<br><b>Образование соискателя</b>', \n",
    "                 'font':{'size': 16, 'color':'darkblue', 'family':'Arial'}})\n",
    "\n",
    "# Вывод сводной таблицы и тепловой карты на экран.  \n",
    "fig.show()"
   ]
  },
  {
   "cell_type": "markdown",
   "id": "a1da9be1",
   "metadata": {},
   "source": [
    "<center> <img src = https://github.com/Serg-NSD/sf_data_science/blob/main/project_1/pict/res_3.7.png?raw=true alt=\"drawing\" style=\"width:1500px;\">"
   ]
  },
  {
   "cell_type": "markdown",
   "id": "7aade1c2-16a0-418c-8427-ad93927c7705",
   "metadata": {},
   "source": [
    "На тепловой карте видно, что по категории высшего образования самые высокие зарплаты. Три выброса: один в 16 лет (122 тыс) и один в 69 (112 тыс.). И ещё один в возрасте 14 лет (60 тыс.) У гения в 14 лет уже имеется высшее образование? Навряд ли.\n",
    "  \n",
    "Нормальный диапазон идёт от 18 лет. Зарплата постепенно увеличивается, в 41-42 года набирает свой пик и далее уменьшается. Картину портят аномалии, что в начале, что в конце.\n",
    "  \n",
    "По неоконченному среднему образованию можно сказать: вполне естественно, что начальный уровень зарплаты ─ 0. И только с 17 лет уже 80 тыс. По-моему, аномалия. С 18 лет идёт нормальный рост зарплаты, к 43-46 годам доходит до пика и далее идёт спад. Выброс в 58 лет (110 тыс.) и с 63 лет зарплата 0. Как обрезало.\n",
    "  \n",
    "Среднее образование начинает рост зарплаты очень нормально, без перекосов и выбросов. В среднем максимум примерно 40-48 лет. Интересен спад до 0 в возрасте 51 года. Что его вызвало? Грязь в данных? Аномальный всплеск в 56 лет (100 тыс.), далее спад и с 60 лет зарплата в нуле.\n",
    "  \n",
    "Среднее специальное образование так же, как и среднее начинает рост зарплаты нормально и с 23 до 62 лет зарплата идёт практически ровно с естественными спадами и подъёмами. В 64 года и 66 лет неожиданный ноль. А в 67 лет ярчайший выброс (120 тыс.), сопоставимый с выбросом в высшем образовании в 16 лет. Явно, грязь в данных. После этого натужного и мощного выброса силы оставили среднее специальное и оно скатилось в ноль. Но... Но до 100 лет(!), чтобы там воспрять до 60 тыс. рублей медианной желаемой заработной платы.\n",
    "  \n",
    "На карте видно, что самый ровный диапазон у среднего специального образования. У высшего образования диапазон в основном ровный, но портят аномалии в начале и конце. Самые непоседливые ─ это неоконченное высшее и среднее. На них видно много разбросов по ходу диапазона лет."
   ]
  },
  {
   "cell_type": "markdown",
   "id": "d0247088-9003-455b-a591-a44650f487c3",
   "metadata": {},
   "source": [
    "8. Постройте **диаграмму рассеяния**, показывающую зависимость опыта работы (**\"Опыт работы (месяц)\"**) от возраста (**\"Возраст\"**). Опыт работы переведите из месяцев в года, чтобы признаки были в едином масштабе. Постройте на графике дополнительно прямую, проходящую через точки (0, 0) и (100, 100). Данная прямая соответствует значениям, когда опыт работы равен возрасту человека. Точки, лежащие на этой прямой и выше нее - аномалии в наших данных (опыт работы больше либо равен возрасту соискателя)"
   ]
  },
  {
   "cell_type": "code",
   "execution_count": null,
   "id": "a4143e50-b900-4ec8-9ae9-fc3ec3347287",
   "metadata": {},
   "outputs": [],
   "source": [
    "\"\"\" Исследование зависимостей. КОД к пункту 8 \"\"\"\n",
    "\n",
    "database = hh_data.copy()\n",
    "\n",
    "# Преобразование месяцев в года.  \n",
    "database['Опыт работы (месяц)'] = (database['Опыт работы (месяц)'] / 12).round()\n",
    "\n",
    "# Установка параметров графика.  \n",
    "plt.rcParams['text.color'] = '#000FB4'\n",
    "plt.rcParams['font.size'] = '16'\n",
    "plt.figure(figsize=(12, 12), facecolor='#E5E4E1')\n",
    "plt.title('Зависимость опыта работы от возраста (ось X)')\n",
    "colors = np.random.randint(44744, size=(44744))\n",
    "\n",
    "# Построение диаграммы рассеяния.  \n",
    "fig = plt.scatter(database['Возраст'], database['Опыт работы (месяц)'], c=colors, s = 50, alpha=0.5, cmap='nipy_spectral')\n",
    "fig = plt.plot([0,100], [0,100])\n",
    "plt.show(fig)\n",
    "\n",
    "# Из-за неявной диаграммы проводится фильтрация и вывод выбросов. Их 7.  \n",
    "x = database[database['Возраст'] <= database['Опыт работы (месяц)']].shape[0]\n",
    "print('Количество выбросов', x)"
   ]
  },
  {
   "cell_type": "markdown",
   "id": "dc08e398",
   "metadata": {},
   "source": [
    "<center> <img src = https://github.com/Serg-NSD/sf_data_science/blob/main/project_1/pict/res_3.8.png?raw=true alt=\"drawing\" style=\"width:600px;\">"
   ]
  },
  {
   "cell_type": "markdown",
   "id": "6f9218ff-52c7-4742-b328-4db5d4da7262",
   "metadata": {},
   "source": [
    "Визуально, по диаграмме, явно видно, что над прямой расположились 4 точки. Программно меняя масштаб, смог разглядеть ещё одну точку, то есть их 5. Более ничего не смог обнаружить и отправил этот результат. Он оказался неверен. Обнаружить засланных казачков-нарушителей границы помогла фильтрация. Стало 7 точек, что и оказалось правильным ответом."
   ]
  },
  {
   "cell_type": "markdown",
   "id": "0cc3b0d5-b551-424d-9956-8da18fce17a1",
   "metadata": {},
   "source": [
    "**Дополнительные баллы**\n",
    "\n",
    "Для получения 2 дополнительных баллов по разведывательному анализу постройте еще два любых содержательных графика или диаграммы, которые помогут проиллюстрировать влияние признаков/взаимосвязь между признаками/распределения признаков. Приведите выводы по ним. Желательно, чтобы в анализе участвовали признаки, которые мы создавали ранее в разделе \"Преобразование данных\".\n"
   ]
  },
  {
   "cell_type": "code",
   "execution_count": null,
   "id": "e273ec66-b8df-41e5-9b99-bdab93dddd85",
   "metadata": {},
   "outputs": [],
   "source": [
    "\"\"\" Исследование зависимостей. КОД к дополнительной работе \"\"\"\n",
    "\n",
    "bar_data=hh_data.copy()\n",
    "before = hh_data[hh_data['ЗП (руб)'] < 1000000]\n",
    "bar_data = before.groupby(by=['Пол'], as_index=False)[['ЗП (руб)']].median()\n",
    "\n",
    "# Устанавка параметров метода update_layout для plotly.express.histogram:  \n",
    "titlsE = {\n",
    "    'x':0.5,\n",
    "    'text':'<b>Зависимость медианной ЗП от признака \"Пол\"</b>',\n",
    "    'font':{'size': 18, 'color':'blue','family':'Arial'}}\n",
    "xaxisE_titl = {\n",
    "    'text': '<b>Пол соискателя</b>',\n",
    "    'font':{'size': 15, 'color':'darkred', 'family':'Arial'}}\n",
    "yaxisE_titl = {\n",
    "    'text': \"<br></br><b>Медианная ЗП</b><br></br>\",\n",
    "    'font':{'size': 15, 'color':'darkred', 'family':'Arial'}}\n",
    "\n",
    "# Построение столбчатой диаграммы.  \n",
    "figE = px.bar(\n",
    "    data_frame=bar_data,\n",
    "    y='ЗП (руб)',\n",
    "    x='Пол',\n",
    "    barmode='group',\n",
    "    color_discrete_map={\"Ж\": \"#2F63FF\", \"Ж\": \"#00CEC7\"},\n",
    "    width=650,\n",
    "    height=650,\n",
    "    ).update_layout(\n",
    "        title=titlsE,\n",
    "        xaxis_title=xaxisE_titl, yaxis_title=yaxisE_titl\n",
    "        );\n",
    "    \n",
    "titls2 = {\n",
    "    'x':0.5,\n",
    "    'text':'<b>Распределение медианной ЗП по половому признаку</b>',\n",
    "    'font':{'size': 18, 'color':'blue','family':'Arial'}}\n",
    "xaxis_titl2 = {\n",
    "    'text': '<b>Медианная желаемая ЗП</b>',\n",
    "    'font':{'size': 15, 'color':'darkgreen', 'family':'Arial'}}\n",
    "yaxis_titl2 = {\n",
    "    'text': \"<br></br><b>Соискатели <i>(чел.)</i>   лог. шкала</b><br></br>\",\n",
    "    'font':{'size': 15, 'color':'darkgreen', 'family':'Arial'}}\n",
    "lgd2 = {'x':0.865, 'y': 0.72, 'font':{'size':12, 'color': 'darkred'}}\n",
    "legend_titl2 = {\n",
    "    'text':'            <b>Пол</b>','font':{'size':12.5, 'color': 'darkblue'}}\n",
    "\n",
    "# Построение гистограммы и коробчатой диаграммы.  \n",
    "fig2 = px.histogram(\n",
    "    data_frame= before, \n",
    "    x = 'ЗП (руб)', \n",
    "    marginal='box',\n",
    "    log_y=True,\n",
    "    template = 'simple_white+seaborn+gridon', \n",
    "    color='Пол', height=500, width=1000, \n",
    "    color_discrete_map={'М': \"#4D98FA\", 'Ж': 'red'}, \n",
    "    nbins=130).update_layout(\n",
    "        title=titls2, \n",
    "        xaxis_title=xaxis_titl2, \n",
    "        yaxis_title=yaxis_titl2, showlegend=True, \n",
    "        legend_title=legend_titl2, \n",
    "        legend=lgd2)\n",
    "\n",
    "fig2.data[0].name='<b>Мужской</b>'\n",
    "fig2.data[2].name='<b>Женский</b>'\n",
    "figE.show()\n",
    "fig2.show()"
   ]
  },
  {
   "cell_type": "markdown",
   "id": "58951984",
   "metadata": {},
   "source": [
    "<center> <img src = https://github.com/Serg-NSD/sf_data_science/blob/main/project_1/pict/add_1.png?raw=true alt=\"drawing\" style=\"width:600px;\">\n",
    "<center> <img src = https://github.com/Serg-NSD/sf_data_science/blob/main/project_1/pict/add_2.png?raw=true alt=\"drawing\" style=\"width:1000px;\">"
   ]
  },
  {
   "cell_type": "markdown",
   "id": "04966e40-3bc3-4dc8-9ba2-e80580ce3abc",
   "metadata": {},
   "source": [
    "### Дополнительная работа\n",
    "В этой работе я решил исследовать зависимость медианной желаемой ЗП до 1000000 по признаку \"Пол\". Много ли работы несут на своих плечах наши хрупкие создания? Нет ли дискриминации мужчин? Кто для себя устанавливает большую зарплату? Почему до 1000000 рублей? Потому что выше идут уже совершенно невероятные аномальные выбросы, до 24 млн. Неплохая зарплата! \n",
    "Итак, рассмотрим первый график ─ столбчатую диаграмму с зависимостью заработной платы от пола.\n",
    "Ясно и понятно ─ у мужчин медианная зарплата 60 тыс., у женщин меньше, всего 48 тыс. В принципе, этого следовало ожидать. Да и разница не такая уж страшная. Если же отключить медиану и поставить счётчик, то у мужчин зарплата будет в районе 36 тыс., а у женщин ─ 8532 рубля. \n",
    "\n",
    "Второй график показывает распределение медианной ЗП по половому признаку. Включена логарифмическая шкала, но она не мешает. У мужчин длина ящика с усами больше, что неудивительно. Если, отключить женский график, то видно, что до 400 тыс. у мужчин, по сравнению с женщинами, очень высоки требования к зарплате. В обоих категориях наблюдаются сильные всплески количества соискателей при общем спаде. Вероятно, может срабатывает эффект коллективизма ─ ведь мы не задумываясь многое повторяем, ─ а возможно, ещё какие-то причины. В совокупности многое наберётся. У женщин есть один (но зато какой!) потенциальный выброс (в диапазоне меньше 1000000 руб). Если это не мусор, то есть заявка на зарплату в 923983 руб. Даже у мужчин такого нет. Зато они отличились потенциальными выбросами (в этом же диапазоне) начиная с 420 тыс. и выше. Если у женщин на 400 тыс. всё заканчивается (кроме 900 тыс. выброса), то мужики всё никак не успокоятся и бурлят почти до самого конца шкалы. Выбросы, причём не одиночными соискателями, а целыми группами. В результате имеется длиный ус вправо, плавно переходящий в выбросы. Его верхняя граница стоит на 190 тыс. Сейчас такой зарплатой никого не удивишь. Вот выше значения в 200-250 тыс. по боксу - это выбросы, в жизни же - это вполне определённые зарплаты, не фантастические. Медиана у женщин стоит на отметке в 48 тыс., у мужчин стоит на 60. Вроде недалеко. Но 3-я квартиль у мжчин 100, у женщин 70. Т.е. разница увеличилась более, чем в два раза. Основное количество соискателей у женщин ищут работу с зарплатой от 30 до 70 тыс. рублей, а у мужчин от 40 до 100000 тыс. рублей. Медиана у мужчин находится на 60 тыс. Она сдвинута влево и это несмотря на большие выбросы за верхней границей. Это объясняется тем, что большее количество соискателей расположено в нижних границах желаемой зарплаты, 30-60 тыс. рублей. Если принять во внимание признак пола, то явно нет никакой дискриминации, вполне объективный график. "
   ]
  },
  {
   "cell_type": "markdown",
   "id": "b1ef156a-efcb-49ce-bb23-90763e7f35b2",
   "metadata": {
    "tags": []
   },
   "source": [
    "# Очистка данных"
   ]
  },
  {
   "cell_type": "markdown",
   "id": "b9cd50a0-992d-4988-8463-2b2b1c4629b4",
   "metadata": {},
   "source": [
    "1. Начнем с дубликатов в наших данных. Найдите **полные дубликаты** в таблице с резюме и удалите их. "
   ]
  },
  {
   "cell_type": "code",
   "execution_count": null,
   "id": "54ab0e50-c0f1-47cc-a54b-bc5c8bc363f9",
   "metadata": {},
   "outputs": [],
   "source": [
    "\"\"\" Очистка данных. КОД к пункту 1 \"\"\"\n",
    "\n",
    "hh_data = pd.read_csv('data/HeadHunter.csv', sep=';')\n",
    "dupl_columns = list(hh_data.columns)\n",
    "mask = hh_data.duplicated(subset=dupl_columns)\n",
    "hh_data_duplicates = hh_data[mask]\n",
    "print(f'Полных копий удалось найти: {hh_data_duplicates.shape[0]}')\n",
    "hh_data = hh_data.drop_duplicates(subset=dupl_columns)\n",
    "hh_clear = hh_data.sort_index(ascending=True).reset_index(drop = True)"
   ]
  },
  {
   "cell_type": "markdown",
   "id": "3d26acea",
   "metadata": {},
   "source": [
    "<center> <img src = https://github.com/Serg-NSD/sf_data_science/blob/main/project_1/pict/clear_4.1.png?raw=true alt=\"drawing\" style=\"width:400px;\">"
   ]
  },
  {
   "cell_type": "markdown",
   "id": "4dea20cb-a36b-474a-a0b9-e08e8e3857a5",
   "metadata": {},
   "source": [
    "2. Займемся пропусками. Выведите информацию **о числе пропусков** в столбцах. "
   ]
  },
  {
   "cell_type": "code",
   "execution_count": null,
   "id": "9c61b3c0-bb66-46c9-ae1e-81d3f5752b4a",
   "metadata": {},
   "outputs": [],
   "source": [
    "\"\"\" Очистка данных. КОД к пункту 2 \"\"\"\n",
    "\n",
    "coun_null = hh_clear.isnull().sum()\n",
    "cols_with_null = coun_null[coun_null>0].sort_values(ascending=False)\n",
    "print(' Количество пропусков в столбцах:\\n\\n', cols_with_null)\n"
   ]
  },
  {
   "cell_type": "markdown",
   "id": "5e39d726",
   "metadata": {},
   "source": [
    "<center> <img src = https://github.com/Serg-NSD/sf_data_science/blob/main/project_1/pict/clear_4.2.png?raw=true alt=\"drawing\" style=\"width:400px;\">"
   ]
  },
  {
   "cell_type": "markdown",
   "id": "eedceb80-c5ca-480e-b27a-278dfb8b4438",
   "metadata": {},
   "source": [
    "3. Итак, у нас есть пропуски в 3ех столбцах: **\"Опыт работы (месяц)\"**, **\"Последнее/нынешнее место работы\"**, **\"Последняя/нынешняя должность\"**. Поступим следующим образом: удалите строки, где есть пропуск в столбцах с местом работы и должностью. Пропуски в столбце с опытом работы заполните **медианным** значением."
   ]
  },
  {
   "cell_type": "code",
   "execution_count": null,
   "id": "69621713-0cc5-4f1b-a1d7-bb144fa6148c",
   "metadata": {},
   "outputs": [],
   "source": [
    "\"\"\" Очистка данных. КОД к пункту 3 \"\"\"\n",
    "\n",
    "hh_clear2 = hh_clear.copy()\n",
    "\n",
    "# Удаление строк с пропусками\n",
    "hh_clear2 = hh_clear2.dropna(how='any', thresh=25, axis=0)\n",
    "hh_clear2=hh_clear2.sort_index(ascending=True).reset_index(drop = True)\n",
    "\n",
    "# Заполнение пропусков медианными значениями\n",
    "values = {\n",
    "    'Опыт работы (месяц)': hh_clear2['Опыт работы (месяц)'].median(),\n",
    "     }\n",
    "hh_clear2 = hh_clear2.fillna(values)\n",
    "coun_null = hh_clear2.isnull().sum()\n",
    "\n",
    "# Вывод ответа \n",
    "result = hh_clear2['Опыт работы (месяц)'].mean().round()\n",
    "print(f'Результрующее среднее значение признака \"Опыт работы (месяц)\" после заполнения пропусков: {int(result)}.')\n",
    "\n",
    "# Реиндексация, сохранение в файл\n",
    "hh_clear2=hh_clear2.sort_index(ascending=True).reset_index(drop = True)\n",
    "hh_clear2.to_csv('data/hh_data_clear.csv', index=False,  sep=';')\n"
   ]
  },
  {
   "cell_type": "markdown",
   "id": "c2eedcbf",
   "metadata": {},
   "source": [
    "<center> <img src = https://github.com/Serg-NSD/sf_data_science/blob/main/project_1/pict/clear_4.3.png?raw=true alt=\"drawing\" style=\"width:900px;\">"
   ]
  },
  {
   "cell_type": "markdown",
   "id": "1be1e9c6-37cf-4a5f-bfeb-04cab799dc80",
   "metadata": {},
   "source": [
    "4. Мы добрались до ликвидации выбросов. Сначала очистим данные вручную. Удалите резюме, в которых указана заработная плата либо выше 1 млн. рублей, либо ниже 1 тыс. рублей."
   ]
  },
  {
   "cell_type": "code",
   "execution_count": null,
   "id": "0036a355-9ccf-4564-8b01-73d8194297e7",
   "metadata": {},
   "outputs": [],
   "source": [
    "\"\"\" Очистка данных. КОД к пункту 4 \"\"\"\n",
    "\n",
    "hh_clear3 = hh_clear2.copy()\n",
    "\n",
    "# Выявление выбросов и присвоение значений переменным.  \n",
    "x = hh_clear3[hh_clear3['ЗП (руб)']>1000000].shape[0]\n",
    "y = hh_clear3[hh_clear3['ЗП (руб)']<1000].shape[0]\n",
    "print('Количество выбросов при зарплате < 1000 руб. и зарплате > 1000000 руб. составляет:', x+y)\n",
    "\n",
    "# Удалние выбросов, реиндексация.  \n",
    "hh_clear3=hh_clear3.loc[hh_clear3['ЗП (руб)']<=1000000]\n",
    "hh_clear3=hh_clear3.loc[hh_clear3['ЗП (руб)']>=1000]\n",
    "hh_clear3=hh_clear3.sort_index(ascending=True).reset_index(drop = True)\n",
    "\n",
    "# Проверка на остатки от выбросов.  \n",
    "x = hh_clear3[hh_clear3['ЗП (руб)']>1000000].shape[0]\n",
    "y = hh_clear3[hh_clear3['ЗП (руб)']<1000].shape[0]\n",
    "print('После очистки количество выбросов составялет:', x+y)\n"
   ]
  },
  {
   "cell_type": "markdown",
   "id": "95460915",
   "metadata": {},
   "source": [
    "<center> <img src = https://github.com/Serg-NSD/sf_data_science/blob/main/project_1/pict/clear_4.4.png?raw=true alt=\"drawing\" style=\"width:800px;\">"
   ]
  },
  {
   "cell_type": "markdown",
   "id": "ec3c8db7-fa21-4a41-a994-1af63742a642",
   "metadata": {},
   "source": [
    "5. В процессе разведывательного анализа мы обнаружили резюме, в которых **опыт работы в годах превышал возраст соискателя**. Найдите такие резюме и удалите их из данных\n"
   ]
  },
  {
   "cell_type": "code",
   "execution_count": null,
   "id": "949132bc-d5b6-4611-8218-0b9a504d74f4",
   "metadata": {},
   "outputs": [],
   "source": [
    "\"\"\" Очистка данных. КОД к пункту 5 \"\"\"\n",
    "\n",
    "hh_clear4 = hh_clear3.copy()\n",
    "\n",
    "# Форматирование месяцев в года в признаке опыта работы.  \n",
    "hh_clear4['Опыт работы (месяц)'] = round(hh_clear4['Опыт работы (месяц)']/12, 4)\n",
    "\n",
    "x = hh_clear4[hh_clear4['Опыт работы (месяц)'] > hh_clear4['Возраст']].shape[0]\n",
    "print('Количество резюме, в которых опыт работы в годах превышает возраст соискателя:', x)\n",
    "\n",
    "# Удаление выбросов в признаке опыта работы, реиндексация.  \n",
    "hh_clear4=hh_clear4.loc[hh_clear4['Опыт работы (месяц)']<=hh_clear4['Возраст']]\n",
    "hh_clear4=hh_clear4.sort_index(ascending=True).reset_index(drop = True)\n",
    "\n",
    "# Вывод информации.  \n",
    "y = hh_clear4[hh_clear4['Опыт работы (месяц)'] > hh_clear4['Возраст']].shape[0]\n",
    "print('После очистки количество выбросов составялет:', y)\n",
    "\n",
    "# Сохранение в файл.  \n",
    "hh_clear4.to_csv('data/hh_data_clear.csv', index=False,  sep=';')"
   ]
  },
  {
   "cell_type": "markdown",
   "id": "923d1e53",
   "metadata": {},
   "source": [
    "<center> <img src = https://github.com/Serg-NSD/sf_data_science/blob/main/project_1/pict/clear_4.5.png?raw=true alt=\"drawing\" style=\"width:800px;\">"
   ]
  },
  {
   "cell_type": "markdown",
   "id": "1041c17a-ca8f-4543-a0ca-32778914fb00",
   "metadata": {},
   "source": [
    "6. В результате анализа мы обнаружили потенциальные выбросы в признаке **\"Возраст\"**. Это оказались резюме людей чересчур преклонного возраста для поиска работы. Попробуйте построить распределение признака в **логарифмическом масштабе**. Добавьте к графику линии, отображающие **среднее и границы интервала метода трех сигм**. Напомним, сделать это можно с помощью метода axvline. Например, для построение линии среднего будет иметь вид:\n",
    "\n",
    "`histplot.axvline(log_age.mean(), color='k', lw=2)`\n",
    "\n",
    "В какую сторону асимметрично логарифмическое распределение? Напишите об этом в комментарии к графику.\n",
    "Найдите выбросы с помощью метода z-отклонения и удалите их из данных, используйте логарифмический масштаб. Давайте сделаем послабление на **1 сигму** (возьмите 4 сигмы) в **правую сторону**.\n",
    "\n",
    "Выведите таблицу с полученными выбросами и оцените, с каким возрастом соискатели попадают под категорию выбросов?"
   ]
  },
  {
   "cell_type": "code",
   "execution_count": null,
   "id": "6a743d39-5204-48d3-8271-b9f88e68d40e",
   "metadata": {},
   "outputs": [],
   "source": [
    "\"\"\" Очистка данных. КОД к пункту 6 \"\"\"\n",
    "\n",
    "hh_clear5 = hh_clear4.copy()\n",
    "\n",
    "# Построение гистограммы с данными до очистки.  \n",
    "fig, ax = plt.subplots(figsize=(15,8))\n",
    "log_age = np.log(hh_clear5['Возраст']+1)\n",
    "histplot = sns.histplot(\n",
    "    log_age,\n",
    "    bins=40, \n",
    "    ax=ax)\n",
    "histplot.axvline(log_age.mean(), color='red', lw=2)\n",
    "histplot.axvline(log_age.mean()+3*log_age.std(), color='#0034D0', ls='--', lw=2)\n",
    "histplot.axvline(log_age.mean()-3*log_age.std(), color='#0034D0', ls='--', lw=2)\n",
    "histplot.set_title('Возрастной признак до очистки')\n",
    "\n",
    "# Функция метода z-отклонения ..\n",
    "def outliers_z_score_mod(data, feature, left=3, right=3, log_scale=False):\n",
    "    if log_scale:\n",
    "        x = np.log(data[feature]+1)\n",
    "    else:\n",
    "        x = data[feature]\n",
    "    mu = x.mean()\n",
    "    sigma = x.std()\n",
    "    lower_bound = mu - left * sigma\n",
    "    upper_bound = mu + right * sigma\n",
    "    outliers = data[(x < lower_bound) | (x > upper_bound)]\n",
    "    cleaned = data[(x > lower_bound) & (x < upper_bound)]\n",
    "    return outliers, cleaned\n",
    "\n",
    "# Вызов функции, вывод информации.  \n",
    "outliers, cleaned = outliers_z_score_mod(hh_clear5, 'Возраст', 3, 4, True)\n",
    "print('Число выбросов: ', outliers.shape[0])\n",
    "w=list(outliers['Возраст'].unique())\n",
    "\n",
    "# Удаление выбросов.  \n",
    "for i in range(0, len(w)):\n",
    "    hh_clear5=hh_clear5.loc[hh_clear5['Возраст'] != w[i]]\n",
    "\n",
    "# Построение гистограммы с данными после очистки.  \n",
    "fig, ax = plt.subplots(figsize=(15,8))\n",
    "log_age = np.log(hh_clear5['Возраст']+1)\n",
    "histplot = sns.histplot(\n",
    "    log_age,\n",
    "    bins=40, \n",
    "    ax=ax)\n",
    "histplot.set_title('Возрастной признак после очистки')\n",
    "histplot.axvline(log_age.mean(), color='red', lw=2)\n",
    "histplot.axvline(log_age.mean()+3*log_age.std(), color='#0034D0', ls='--', lw=2)\n",
    "histplot.axvline(log_age.mean()-3*log_age.std(), color='#0034D0', ls='--', lw=2);\n",
    "\n"
   ]
  },
  {
   "cell_type": "markdown",
   "id": "9006be6c",
   "metadata": {},
   "source": [
    "<center> <img src = https://github.com/Serg-NSD/sf_data_science/blob/main/project_1/pict/clear_4.6.png?raw=true alt=\"drawing\" style=\"width:600px;\">"
   ]
  },
  {
   "cell_type": "markdown",
   "id": "6a7892b4-4113-4746-adce-18aa2844f18e",
   "metadata": {},
   "source": [
    "Графический интервал метода трёх сигм показывает, что что количество наблюдений, не входящие в интервал, достаточно невелико. Мы удалили выбросы в возрасте соискателя (7 шт.) видно, что интервал сузился и среднее значение стало ближе к медианному. Правосторонняя ассиметрия сохранилась, почти не изменилась. Из-за небольшого количества выбросов график изменился незначительно. Из этого делаем вывод: надо внимательней приглядеться к опыту работы и возрасту. Были удалён только опыт со значением, превышающим возраст. Но вот такая получается вешь. Возраст, например, 20 лет. Опыт работы ─ 19 лет. Согласно нашему фильтру этот опыт был оставлен в датасете. Ага, человек работает с одного года. Возраст, по этой диаграмме вполне ревалентный."
   ]
  }
 ],
 "metadata": {
  "kernelspec": {
   "display_name": "Python 3 (ipykernel)",
   "language": "python",
   "name": "python3"
  },
  "language_info": {
   "codemirror_mode": {
    "name": "ipython",
    "version": 3
   },
   "file_extension": ".py",
   "mimetype": "text/x-python",
   "name": "python",
   "nbconvert_exporter": "python",
   "pygments_lexer": "ipython3",
   "version": "3.10.0"
  }
 },
 "nbformat": 4,
 "nbformat_minor": 5
}
