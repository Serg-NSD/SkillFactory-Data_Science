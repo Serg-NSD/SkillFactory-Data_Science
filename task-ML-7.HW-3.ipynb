{
 "cells": [
  {
   "cell_type": "markdown",
   "metadata": {},
   "source": [
    "### **Предсказание биологического ответа молекул по их химическому составу**\n",
    "#### Задание: ML-7. Прогнозирование биологическогго ответа (HW-3)\n",
    "\n",
    "В качестве метрики используется F1-score.  \n",
    "Предварительная обработка не требуется, данные закодированы и нормализованы.\n",
    "  \n",
    "Обучить две модели: **логистическую регрессию и случайный лес**.  \n",
    "Сделать подбор гиперпараметров базовыми и продвинутми методами оптимизации.  \n",
    "Использовать **все четыре метода**: *GridSearchCV, RandomizedSearchCV, Hyperopt, Optuna*.  \n",
    "Максимальное количество итераций не должно превышать 50."
   ]
  },
  {
   "cell_type": "code",
   "execution_count": 1,
   "metadata": {},
   "outputs": [],
   "source": [
    "import pandas as pd\n",
    "import numpy as np\n",
    "from warnings import simplefilter\n",
    "simplefilter(action=\"ignore\", category=Warning)\n",
    "from sklearn.model_selection import train_test_split\n",
    "from sklearn.linear_model import LogisticRegression\n",
    "from sklearn.ensemble import RandomForestClassifier\n",
    "from sklearn.metrics import f1_score\n",
    "from sklearn.model_selection import GridSearchCV\n",
    "from sklearn.model_selection import RandomizedSearchCV\n",
    "from sklearn.model_selection import cross_val_score\n",
    "from hyperopt import hp, fmin, tpe, Trials\n",
    "import optuna\n",
    "from scipy.stats import uniform"
   ]
  },
  {
   "cell_type": "code",
   "execution_count": 2,
   "metadata": {},
   "outputs": [
    {
     "data": {
      "text/html": [
       "<div>\n",
       "<style scoped>\n",
       "    .dataframe tbody tr th:only-of-type {\n",
       "        vertical-align: middle;\n",
       "    }\n",
       "\n",
       "    .dataframe tbody tr th {\n",
       "        vertical-align: top;\n",
       "    }\n",
       "\n",
       "    .dataframe thead th {\n",
       "        text-align: right;\n",
       "    }\n",
       "</style>\n",
       "<table border=\"1\" class=\"dataframe\">\n",
       "  <thead>\n",
       "    <tr style=\"text-align: right;\">\n",
       "      <th></th>\n",
       "      <th>Activity</th>\n",
       "      <th>D1</th>\n",
       "      <th>D2</th>\n",
       "      <th>D3</th>\n",
       "      <th>D4</th>\n",
       "      <th>D5</th>\n",
       "      <th>D6</th>\n",
       "      <th>D7</th>\n",
       "      <th>D8</th>\n",
       "      <th>D9</th>\n",
       "      <th>...</th>\n",
       "      <th>D1767</th>\n",
       "      <th>D1768</th>\n",
       "      <th>D1769</th>\n",
       "      <th>D1770</th>\n",
       "      <th>D1771</th>\n",
       "      <th>D1772</th>\n",
       "      <th>D1773</th>\n",
       "      <th>D1774</th>\n",
       "      <th>D1775</th>\n",
       "      <th>D1776</th>\n",
       "    </tr>\n",
       "  </thead>\n",
       "  <tbody>\n",
       "    <tr>\n",
       "      <th>0</th>\n",
       "      <td>1</td>\n",
       "      <td>0.000000</td>\n",
       "      <td>0.497009</td>\n",
       "      <td>0.10</td>\n",
       "      <td>0.0</td>\n",
       "      <td>0.132956</td>\n",
       "      <td>0.678031</td>\n",
       "      <td>0.273166</td>\n",
       "      <td>0.585445</td>\n",
       "      <td>0.743663</td>\n",
       "      <td>...</td>\n",
       "      <td>0</td>\n",
       "      <td>0</td>\n",
       "      <td>0</td>\n",
       "      <td>0</td>\n",
       "      <td>0</td>\n",
       "      <td>0</td>\n",
       "      <td>0</td>\n",
       "      <td>0</td>\n",
       "      <td>0</td>\n",
       "      <td>0</td>\n",
       "    </tr>\n",
       "    <tr>\n",
       "      <th>1</th>\n",
       "      <td>1</td>\n",
       "      <td>0.366667</td>\n",
       "      <td>0.606291</td>\n",
       "      <td>0.05</td>\n",
       "      <td>0.0</td>\n",
       "      <td>0.111209</td>\n",
       "      <td>0.803455</td>\n",
       "      <td>0.106105</td>\n",
       "      <td>0.411754</td>\n",
       "      <td>0.836582</td>\n",
       "      <td>...</td>\n",
       "      <td>1</td>\n",
       "      <td>1</td>\n",
       "      <td>1</td>\n",
       "      <td>1</td>\n",
       "      <td>0</td>\n",
       "      <td>1</td>\n",
       "      <td>0</td>\n",
       "      <td>0</td>\n",
       "      <td>1</td>\n",
       "      <td>0</td>\n",
       "    </tr>\n",
       "    <tr>\n",
       "      <th>2</th>\n",
       "      <td>1</td>\n",
       "      <td>0.033300</td>\n",
       "      <td>0.480124</td>\n",
       "      <td>0.00</td>\n",
       "      <td>0.0</td>\n",
       "      <td>0.209791</td>\n",
       "      <td>0.610350</td>\n",
       "      <td>0.356453</td>\n",
       "      <td>0.517720</td>\n",
       "      <td>0.679051</td>\n",
       "      <td>...</td>\n",
       "      <td>0</td>\n",
       "      <td>0</td>\n",
       "      <td>0</td>\n",
       "      <td>0</td>\n",
       "      <td>0</td>\n",
       "      <td>0</td>\n",
       "      <td>0</td>\n",
       "      <td>0</td>\n",
       "      <td>0</td>\n",
       "      <td>0</td>\n",
       "    </tr>\n",
       "    <tr>\n",
       "      <th>3</th>\n",
       "      <td>1</td>\n",
       "      <td>0.000000</td>\n",
       "      <td>0.538825</td>\n",
       "      <td>0.00</td>\n",
       "      <td>0.5</td>\n",
       "      <td>0.196344</td>\n",
       "      <td>0.724230</td>\n",
       "      <td>0.235606</td>\n",
       "      <td>0.288764</td>\n",
       "      <td>0.805110</td>\n",
       "      <td>...</td>\n",
       "      <td>0</td>\n",
       "      <td>0</td>\n",
       "      <td>0</td>\n",
       "      <td>0</td>\n",
       "      <td>0</td>\n",
       "      <td>0</td>\n",
       "      <td>0</td>\n",
       "      <td>0</td>\n",
       "      <td>0</td>\n",
       "      <td>0</td>\n",
       "    </tr>\n",
       "    <tr>\n",
       "      <th>4</th>\n",
       "      <td>0</td>\n",
       "      <td>0.100000</td>\n",
       "      <td>0.517794</td>\n",
       "      <td>0.00</td>\n",
       "      <td>0.0</td>\n",
       "      <td>0.494734</td>\n",
       "      <td>0.781422</td>\n",
       "      <td>0.154361</td>\n",
       "      <td>0.303809</td>\n",
       "      <td>0.812646</td>\n",
       "      <td>...</td>\n",
       "      <td>0</td>\n",
       "      <td>0</td>\n",
       "      <td>0</td>\n",
       "      <td>0</td>\n",
       "      <td>0</td>\n",
       "      <td>0</td>\n",
       "      <td>0</td>\n",
       "      <td>0</td>\n",
       "      <td>0</td>\n",
       "      <td>0</td>\n",
       "    </tr>\n",
       "    <tr>\n",
       "      <th>...</th>\n",
       "      <td>...</td>\n",
       "      <td>...</td>\n",
       "      <td>...</td>\n",
       "      <td>...</td>\n",
       "      <td>...</td>\n",
       "      <td>...</td>\n",
       "      <td>...</td>\n",
       "      <td>...</td>\n",
       "      <td>...</td>\n",
       "      <td>...</td>\n",
       "      <td>...</td>\n",
       "      <td>...</td>\n",
       "      <td>...</td>\n",
       "      <td>...</td>\n",
       "      <td>...</td>\n",
       "      <td>...</td>\n",
       "      <td>...</td>\n",
       "      <td>...</td>\n",
       "      <td>...</td>\n",
       "      <td>...</td>\n",
       "      <td>...</td>\n",
       "    </tr>\n",
       "    <tr>\n",
       "      <th>3746</th>\n",
       "      <td>1</td>\n",
       "      <td>0.033300</td>\n",
       "      <td>0.506409</td>\n",
       "      <td>0.10</td>\n",
       "      <td>0.0</td>\n",
       "      <td>0.209887</td>\n",
       "      <td>0.633426</td>\n",
       "      <td>0.297659</td>\n",
       "      <td>0.376124</td>\n",
       "      <td>0.727093</td>\n",
       "      <td>...</td>\n",
       "      <td>0</td>\n",
       "      <td>0</td>\n",
       "      <td>0</td>\n",
       "      <td>0</td>\n",
       "      <td>0</td>\n",
       "      <td>0</td>\n",
       "      <td>0</td>\n",
       "      <td>0</td>\n",
       "      <td>0</td>\n",
       "      <td>0</td>\n",
       "    </tr>\n",
       "    <tr>\n",
       "      <th>3747</th>\n",
       "      <td>1</td>\n",
       "      <td>0.133333</td>\n",
       "      <td>0.651023</td>\n",
       "      <td>0.15</td>\n",
       "      <td>0.0</td>\n",
       "      <td>0.151154</td>\n",
       "      <td>0.766505</td>\n",
       "      <td>0.170876</td>\n",
       "      <td>0.404546</td>\n",
       "      <td>0.787935</td>\n",
       "      <td>...</td>\n",
       "      <td>0</td>\n",
       "      <td>0</td>\n",
       "      <td>1</td>\n",
       "      <td>0</td>\n",
       "      <td>1</td>\n",
       "      <td>0</td>\n",
       "      <td>1</td>\n",
       "      <td>0</td>\n",
       "      <td>0</td>\n",
       "      <td>0</td>\n",
       "    </tr>\n",
       "    <tr>\n",
       "      <th>3748</th>\n",
       "      <td>0</td>\n",
       "      <td>0.200000</td>\n",
       "      <td>0.520564</td>\n",
       "      <td>0.00</td>\n",
       "      <td>0.0</td>\n",
       "      <td>0.179949</td>\n",
       "      <td>0.768785</td>\n",
       "      <td>0.177341</td>\n",
       "      <td>0.471179</td>\n",
       "      <td>0.872241</td>\n",
       "      <td>...</td>\n",
       "      <td>0</td>\n",
       "      <td>0</td>\n",
       "      <td>0</td>\n",
       "      <td>0</td>\n",
       "      <td>0</td>\n",
       "      <td>0</td>\n",
       "      <td>0</td>\n",
       "      <td>0</td>\n",
       "      <td>0</td>\n",
       "      <td>0</td>\n",
       "    </tr>\n",
       "    <tr>\n",
       "      <th>3749</th>\n",
       "      <td>1</td>\n",
       "      <td>0.100000</td>\n",
       "      <td>0.765646</td>\n",
       "      <td>0.00</td>\n",
       "      <td>0.0</td>\n",
       "      <td>0.536954</td>\n",
       "      <td>0.634936</td>\n",
       "      <td>0.342713</td>\n",
       "      <td>0.447162</td>\n",
       "      <td>0.672689</td>\n",
       "      <td>...</td>\n",
       "      <td>0</td>\n",
       "      <td>0</td>\n",
       "      <td>0</td>\n",
       "      <td>0</td>\n",
       "      <td>0</td>\n",
       "      <td>0</td>\n",
       "      <td>0</td>\n",
       "      <td>0</td>\n",
       "      <td>0</td>\n",
       "      <td>0</td>\n",
       "    </tr>\n",
       "    <tr>\n",
       "      <th>3750</th>\n",
       "      <td>0</td>\n",
       "      <td>0.133333</td>\n",
       "      <td>0.533952</td>\n",
       "      <td>0.00</td>\n",
       "      <td>0.0</td>\n",
       "      <td>0.347966</td>\n",
       "      <td>0.757971</td>\n",
       "      <td>0.230667</td>\n",
       "      <td>0.272652</td>\n",
       "      <td>0.854116</td>\n",
       "      <td>...</td>\n",
       "      <td>0</td>\n",
       "      <td>0</td>\n",
       "      <td>0</td>\n",
       "      <td>0</td>\n",
       "      <td>0</td>\n",
       "      <td>0</td>\n",
       "      <td>0</td>\n",
       "      <td>0</td>\n",
       "      <td>0</td>\n",
       "      <td>0</td>\n",
       "    </tr>\n",
       "  </tbody>\n",
       "</table>\n",
       "<p>3751 rows × 1777 columns</p>\n",
       "</div>"
      ],
      "text/plain": [
       "      Activity        D1        D2    D3   D4        D5        D6        D7  \\\n",
       "0            1  0.000000  0.497009  0.10  0.0  0.132956  0.678031  0.273166   \n",
       "1            1  0.366667  0.606291  0.05  0.0  0.111209  0.803455  0.106105   \n",
       "2            1  0.033300  0.480124  0.00  0.0  0.209791  0.610350  0.356453   \n",
       "3            1  0.000000  0.538825  0.00  0.5  0.196344  0.724230  0.235606   \n",
       "4            0  0.100000  0.517794  0.00  0.0  0.494734  0.781422  0.154361   \n",
       "...        ...       ...       ...   ...  ...       ...       ...       ...   \n",
       "3746         1  0.033300  0.506409  0.10  0.0  0.209887  0.633426  0.297659   \n",
       "3747         1  0.133333  0.651023  0.15  0.0  0.151154  0.766505  0.170876   \n",
       "3748         0  0.200000  0.520564  0.00  0.0  0.179949  0.768785  0.177341   \n",
       "3749         1  0.100000  0.765646  0.00  0.0  0.536954  0.634936  0.342713   \n",
       "3750         0  0.133333  0.533952  0.00  0.0  0.347966  0.757971  0.230667   \n",
       "\n",
       "            D8        D9  ...  D1767  D1768  D1769  D1770  D1771  D1772  \\\n",
       "0     0.585445  0.743663  ...      0      0      0      0      0      0   \n",
       "1     0.411754  0.836582  ...      1      1      1      1      0      1   \n",
       "2     0.517720  0.679051  ...      0      0      0      0      0      0   \n",
       "3     0.288764  0.805110  ...      0      0      0      0      0      0   \n",
       "4     0.303809  0.812646  ...      0      0      0      0      0      0   \n",
       "...        ...       ...  ...    ...    ...    ...    ...    ...    ...   \n",
       "3746  0.376124  0.727093  ...      0      0      0      0      0      0   \n",
       "3747  0.404546  0.787935  ...      0      0      1      0      1      0   \n",
       "3748  0.471179  0.872241  ...      0      0      0      0      0      0   \n",
       "3749  0.447162  0.672689  ...      0      0      0      0      0      0   \n",
       "3750  0.272652  0.854116  ...      0      0      0      0      0      0   \n",
       "\n",
       "      D1773  D1774  D1775  D1776  \n",
       "0         0      0      0      0  \n",
       "1         0      0      1      0  \n",
       "2         0      0      0      0  \n",
       "3         0      0      0      0  \n",
       "4         0      0      0      0  \n",
       "...     ...    ...    ...    ...  \n",
       "3746      0      0      0      0  \n",
       "3747      1      0      0      0  \n",
       "3748      0      0      0      0  \n",
       "3749      0      0      0      0  \n",
       "3750      0      0      0      0  \n",
       "\n",
       "[3751 rows x 1777 columns]"
      ]
     },
     "execution_count": 2,
     "metadata": {},
     "output_type": "execute_result"
    }
   ],
   "source": [
    "data = pd.read_csv('data/_train_sem09__1_.zip')\n",
    "data"
   ]
  },
  {
   "cell_type": "markdown",
   "metadata": {},
   "source": [
    "###  Разделение набора данных на учебные и проверочные данные"
   ]
  },
  {
   "cell_type": "code",
   "execution_count": 3,
   "metadata": {},
   "outputs": [],
   "source": [
    "# Целевой столбец Activity \n",
    "# Разделение на train и test в соотношении 80/20\n",
    "X = data.drop(columns='Activity')\n",
    "y = data['Activity']\n",
    "X_train, X_test, y_train, y_test = train_test_split(X, y, \\\n",
    "    test_size=0.2, stratify=y, random_state=42)"
   ]
  },
  {
   "cell_type": "markdown",
   "metadata": {},
   "source": [
    "# Обучение двух моделей: логистическая регрессия и случайный лес\n",
    "#### Логистическая регрессия"
   ]
  },
  {
   "cell_type": "code",
   "execution_count": 4,
   "metadata": {},
   "outputs": [
    {
     "name": "stdout",
     "output_type": "stream",
     "text": [
      "f1 тренировочная выборка: 0.8769\n",
      "f1 тестовая выборка: 0.7767\n"
     ]
    }
   ],
   "source": [
    "# Создание модели.  \n",
    "log_reg = LogisticRegression(n_jobs=-1, random_state=42, max_iter=50)\n",
    "\n",
    "# Обучение модели.  \n",
    "log_reg.fit(X_train, y_train)\n",
    "y_train_pred = log_reg.predict(X_train)\n",
    "y_test_pred = log_reg.predict(X_test)\n",
    "\n",
    "# Вывод результатов.  \n",
    "print('f1 тренировочная выборка: {:.4f}'.format(f1_score(y_train, y_train_pred)))\n",
    "print('f1 тестовая выборка: {:.4f}'.format(f1_score(y_test, y_test_pred)))"
   ]
  },
  {
   "cell_type": "markdown",
   "metadata": {},
   "source": [
    "#### Случайный лес"
   ]
  },
  {
   "cell_type": "code",
   "execution_count": 5,
   "metadata": {},
   "outputs": [
    {
     "name": "stdout",
     "output_type": "stream",
     "text": [
      "f1 тренировочная выборка: 1.0000\n",
      "f1 тестовая выборка: 0.8048\n"
     ]
    }
   ],
   "source": [
    "# Создание модели.  \n",
    "rfс = RandomForestClassifier(n_jobs=-1, random_state=42)\n",
    "\n",
    "# Обучение модели.  \n",
    "rfс.fit(X_train, y_train)\n",
    "y_train_pred = rfс.predict(X_train)\n",
    "y_test_pred = rfс.predict(X_test)\n",
    "\n",
    "# Вывод результатов.  \n",
    "print('f1 тренировочная выборка: {:.4f}'.format(f1_score(y_train, y_train_pred)))\n",
    "print('f1 тестовая выборка: {:.4f}'.format(f1_score(y_test, y_test_pred)))"
   ]
  },
  {
   "cell_type": "markdown",
   "metadata": {},
   "source": [
    "# Базовые методы оптимизации с кросс-валидацией"
   ]
  },
  {
   "cell_type": "markdown",
   "metadata": {},
   "source": [
    "### **GridSearchCV**\n",
    "-----------------------------------------\n",
    "#### Логистическая регрессия"
   ]
  },
  {
   "cell_type": "code",
   "execution_count": 6,
   "metadata": {},
   "outputs": [],
   "source": [
    "# Сетка гиперпараметров.  \n",
    "param_grid = [\n",
    "    {'solver': ['saga'],\n",
    "    'penalty': ['l1', 'l2'],\n",
    "    'C': [0.01, 0.05, 0.1, 0.5, 1.]},\n",
    "    {'solver': ['lbfgs'],\n",
    "    'penalty': ['l2'],\n",
    "    'C': [0.01, 0.05, 0.1, 0.5, 1.]}\n",
    "]\n",
    "\n",
    "# Поиск гиперпараметров с кросс-валидацией.  \n",
    "grid_search = GridSearchCV(\n",
    "    estimator=LogisticRegression(random_state=42, max_iter=50),\n",
    "    param_grid=param_grid,\n",
    "    scoring = 'f1',\n",
    "    cv=5, # Количество фолдов\n",
    "    n_jobs = -1\n",
    ")  \n",
    "\n",
    "# Обучение модели.  \n",
    "grid_search.fit(X_train, y_train) \n",
    "y_train_pred = grid_search.predict(X_train)\n",
    "y_test_pred = grid_search.predict(X_test)"
   ]
  },
  {
   "cell_type": "code",
   "execution_count": 7,
   "metadata": {},
   "outputs": [
    {
     "name": "stdout",
     "output_type": "stream",
     "text": [
      "f1 тренировочная выборка: 0.8433\n",
      "f1 тестовая выборка: 0.7825\n",
      "Наилучшие значения гиперпараметров: {'C': 0.05, 'penalty': 'l2', 'solver': 'lbfgs'}\n"
     ]
    }
   ],
   "source": [
    "# Вывод результатов.  \n",
    "print('f1 тренировочная выборка: {:.4f}'.format(f1_score(y_train, y_train_pred)))\n",
    "print('f1 тестовая выборка: {:.4f}'.format(f1_score(y_test, y_test_pred)))\n",
    "print(\"Наилучшие значения гиперпараметров: {}\".format(grid_search.best_params_))"
   ]
  },
  {
   "cell_type": "markdown",
   "metadata": {},
   "source": [
    "#### Случайный лес"
   ]
  },
  {
   "cell_type": "code",
   "execution_count": 8,
   "metadata": {},
   "outputs": [],
   "source": [
    "# Сетка гиперпараметров\n",
    "param_grid = [\n",
    "    {'n_estimators': [80, 200, 300],\n",
    "     'criterion': ['gini', 'entropy'],\n",
    "     'min_samples_leaf': [5, 20, 50],\n",
    "     'max_depth': [10, 30, 50]\n",
    "    }\n",
    "]\n",
    "\n",
    "# Поиск гиперпараметров с кросс-валидацией.  \n",
    "grid_search = GridSearchCV(\n",
    "    estimator = RandomForestClassifier(random_state=42), \n",
    "    param_grid=param_grid, \n",
    "    scoring = 'f1',\n",
    "    cv=5, # Количество фолдов.  \n",
    "    n_jobs = -1\n",
    ")  \n",
    "\n",
    "# Обучение модели.  \n",
    "grid_search.fit(X_train, y_train) \n",
    "y_train_pred = grid_search.predict(X_train)\n",
    "y_test_pred = grid_search.predict(X_test)"
   ]
  },
  {
   "cell_type": "code",
   "execution_count": 9,
   "metadata": {},
   "outputs": [
    {
     "name": "stdout",
     "output_type": "stream",
     "text": [
      "f1 тренировочная выборка: 0.9554\n",
      "f1 тестовая выборка: 0.8058\n",
      "Наилучшие значения гиперпараметров: {'criterion': 'entropy', 'max_depth': 50, 'min_samples_leaf': 5, 'n_estimators': 300}\n"
     ]
    }
   ],
   "source": [
    "# Вывод результатов\n",
    "print('f1 тренировочная выборка: {:.4f}'.format(f1_score(y_train, y_train_pred)))\n",
    "print('f1 тестовая выборка: {:.4f}'.format(f1_score(y_test, y_test_pred)))\n",
    "print('Наилучшие значения гиперпараметров: {}'.format(grid_search.best_params_))"
   ]
  },
  {
   "cell_type": "markdown",
   "metadata": {},
   "source": [
    "### **RandomizedSearchCV**\n",
    "---------------------------------------\n",
    "#### Логистическая регрессия"
   ]
  },
  {
   "cell_type": "code",
   "execution_count": 10,
   "metadata": {},
   "outputs": [],
   "source": [
    "# Сетка гиперпараметров.  \n",
    "param_grid = [\n",
    "    {'solver': ['saga'],\n",
    "    'penalty': ['l1', 'l2'],\n",
    "    'C': list(np.linspace(0.01, 1, 10, dtype=float))},\n",
    "    {'solver': ['lbfgs'],\n",
    "    'penalty': ['l2'],\n",
    "    'C': list(np.linspace(0.01, 1, 10, dtype=float))}\n",
    "]\n",
    "\n",
    "# Случайный поиск гиперпараметров с кросс-валидацией.  \n",
    "random_search = RandomizedSearchCV(\n",
    "    estimator=LogisticRegression(random_state=42, max_iter=50), \n",
    "    param_distributions=param_grid, \n",
    "    scoring = 'f1',\n",
    "    cv=5,\n",
    "    n_iter=30, \n",
    "    n_jobs = -1\n",
    ")  \n",
    "\n",
    "# Обучение модели\n",
    "random_search.fit(X_train, y_train) \n",
    "y_train_pred = random_search.predict(X_train)\n",
    "y_test_pred = random_search.predict(X_test)"
   ]
  },
  {
   "cell_type": "code",
   "execution_count": 11,
   "metadata": {},
   "outputs": [
    {
     "name": "stdout",
     "output_type": "stream",
     "text": [
      "f1 тренировочная выборка: 0.8355\n",
      "f1 тестовая выборка: 0.7826\n",
      "Наилучшие значения гиперпараметров: {'solver': 'saga', 'penalty': 'l1', 'C': 0.34}\n"
     ]
    }
   ],
   "source": [
    "# Вывод результатов.  \n",
    "print('f1 тренировочная выборка: {:.4f}'.format(f1_score(y_train, y_train_pred)))\n",
    "print('f1 тестовая выборка: {:.4f}'.format(f1_score(y_test, y_test_pred)))\n",
    "print('Наилучшие значения гиперпараметров: {}'.format(random_search.best_params_))"
   ]
  },
  {
   "cell_type": "markdown",
   "metadata": {},
   "source": [
    "#### Случайный лес"
   ]
  },
  {
   "cell_type": "code",
   "execution_count": 12,
   "metadata": {},
   "outputs": [],
   "source": [
    "# Сетка гиперпараметров\n",
    "param_grid = [\n",
    "    {'n_estimators': [80, 200, 30],\n",
    "     'criterion': ['gini', 'entropy'],\n",
    "     'min_samples_leaf': [5, 20, 50],\n",
    "     'max_depth': [10, 30, 50]\n",
    "    }\n",
    "]\n",
    "\n",
    "# Поиск гиперпараметров с кросс-валидацией.  \n",
    "random_search = RandomizedSearchCV(\n",
    "    estimator = RandomForestClassifier(random_state=42), \n",
    "    param_distributions=param_grid, \n",
    "    scoring = 'f1',\n",
    "    cv=5, \n",
    "    n_iter = 30, \n",
    "    n_jobs = -1\n",
    ")  \n",
    "\n",
    "# Обучение модели.  \n",
    "random_search.fit(X_train, y_train) \n",
    "y_train_pred = random_search.predict(X_train)\n",
    "y_test_pred = random_search.predict(X_test)"
   ]
  },
  {
   "cell_type": "code",
   "execution_count": 13,
   "metadata": {},
   "outputs": [
    {
     "name": "stdout",
     "output_type": "stream",
     "text": [
      "f1 тренировочная выборка: 0.9540\n",
      "f1 тестовая выборка: 0.7985\n",
      "Наилучшие значения гиперпараметров: {'n_estimators': 200, 'min_samples_leaf': 5, 'max_depth': 50, 'criterion': 'entropy'}\n"
     ]
    }
   ],
   "source": [
    "# Вывод результатов.  \n",
    "print('f1 тренировочная выборка: {:.4f}'.format(f1_score(y_train, y_train_pred)))\n",
    "print('f1 тестовая выборка: {:.4f}'.format(f1_score(y_test, y_test_pred)))\n",
    "print('Наилучшие значения гиперпараметров: {}'.format(random_search.best_params_))"
   ]
  },
  {
   "cell_type": "markdown",
   "metadata": {},
   "source": [
    "# Продвинутые методы оптимизации с кросс-валидацией"
   ]
  },
  {
   "cell_type": "markdown",
   "metadata": {},
   "source": [
    "### **Hyperopt**\n",
    "-----------------------------\n",
    "#### Логистическая регрессия"
   ]
  },
  {
   "cell_type": "code",
   "execution_count": 14,
   "metadata": {},
   "outputs": [
    {
     "name": "stdout",
     "output_type": "stream",
     "text": [
      "100%|██████████| 20/20 [00:48<00:00,  2.42s/trial, best loss: -0.778377320521217]\n",
      "Наилучшие значения гиперпараметров: {'C_saga': 0.10567819922023905, 'parameter_combinations': 0, 'penalty': 1}\n"
     ]
    }
   ],
   "source": [
    "# Пространство гиперпараметров.  \n",
    "space = hp.choice('parameter_combinations', \n",
    "                  [\n",
    "                   {'solver': 'saga', \n",
    "                    'penalty': hp.choice('penalty', ['l1', 'l2']), \n",
    "                    'C': hp.uniform('C_saga', 0.01, 1)}, \n",
    "                   \n",
    "                   {'solver': 'lbfgs', \n",
    "                    'penalty': 'l2', \n",
    "                    'C': hp.uniform('C_lbfgs', 0.01, 1)}\n",
    "                   ]\n",
    ")\n",
    "\n",
    "# Целевая функция.  \n",
    "def obj_func(params, cv=5, X=X_train, y=y_train, random_state=42):\n",
    "    params = {'solver': params['solver'], \n",
    "              'penalty': params['penalty'], \n",
    "              'C': params['C']\n",
    "             }\n",
    "      \n",
    "    model = LogisticRegression(**params, class_weight='balanced', \n",
    "        random_state=random_state, max_iter=50\n",
    "    )\n",
    "      \n",
    "    # Обучаем модель с помощью кросс-валидации.  \n",
    "    score = cross_val_score(model, X, y, cv=cv, scoring='f1', n_jobs=-1).mean()\n",
    "\n",
    "    return -score \n",
    "\n",
    "trials = Trials()\n",
    "best=fmin(obj_func, \n",
    "          space=space, \n",
    "          algo=tpe.suggest, \n",
    "          max_evals=20, \n",
    "          trials=trials, \n",
    "          rstate=np.random.default_rng(42)\n",
    "         )\n",
    "print(f'Наилучшие значения гиперпараметров: {best}')\n"
   ]
  },
  {
   "cell_type": "code",
   "execution_count": 15,
   "metadata": {},
   "outputs": [],
   "source": [
    "# Расчет метрики для лучших найденных гиперпараметров.  \n",
    "best_params = {'solver': 'saga',\n",
    "          'penalty': 'l2', \n",
    "          'C': 0.10567819922023905\n",
    "}\n",
    "\n",
    "# Модель с лучшими параметрами.  \n",
    "hyperopt_lr = LogisticRegression(**best_params, class_weight='balanced',\n",
    "                                   random_state=42, max_iter=50\n",
    ")\n",
    "hyperopt_lr.fit(X_train, y_train)\n",
    "y_train_pred = hyperopt_lr.predict(X_train)\n",
    "y_test_pred = hyperopt_lr.predict(X_test)"
   ]
  },
  {
   "cell_type": "code",
   "execution_count": 16,
   "metadata": {},
   "outputs": [
    {
     "name": "stdout",
     "output_type": "stream",
     "text": [
      "f1 кросс-валидация: 0.7784\n",
      "f1 тренировочная выборка: 0.8509\n",
      "f1 тестовая выборка: 0.7844\n"
     ]
    }
   ],
   "source": [
    "best_score = (np.array(list(x['result']['loss'] \n",
    "                            for x in trials.trials)) * (-1)).max()\n",
    "\n",
    "print('f1 кросс-валидация: {:.4f}'.format(best_score))\n",
    "print('f1 тренировочная выборка: {:.4f}'.format(f1_score(y_train, y_train_pred)))\n",
    "print('f1 тестовая выборка: {:.4f}'.format(f1_score(y_test, y_test_pred)))"
   ]
  },
  {
   "cell_type": "markdown",
   "metadata": {},
   "source": [
    "#### Случайный лес"
   ]
  },
  {
   "cell_type": "code",
   "execution_count": 17,
   "metadata": {},
   "outputs": [
    {
     "name": "stdout",
     "output_type": "stream",
     "text": [
      "100%|██████████| 20/20 [00:43<00:00,  2.17s/trial, best loss: -0.8003945912298767]\n",
      "Наилучшие значения гиперпараметров: {'criterion': 0, 'max_depth': 28.0, 'min_samples_leaf': 6.0, 'n_estimators': 114.0}\n"
     ]
    }
   ],
   "source": [
    "# Пространство гиреопараметров.  \n",
    "space={'n_estimators': hp.quniform('n_estimators', 100, 500, 1),\n",
    "       'criterion': hp.choice('criterion', ['gini', 'entropy']),\n",
    "       'max_depth' : hp.quniform('max_depth', 1, 100, 1),\n",
    "       'min_samples_leaf': hp.quniform('min_samples_leaf', 2, 100, 1)\n",
    "      }\n",
    "\n",
    "\n",
    "# Целевая функция.  \n",
    "def obj_func(params, cv=5, X=X_train, y=y_train, random_state=42):\n",
    "    params = {'n_estimators': int(params['n_estimators']),\n",
    "              'criterion': params['criterion'],\n",
    "              'max_depth': int(params['max_depth']), \n",
    "              'min_samples_leaf': int(params['min_samples_leaf'])\n",
    "             }\n",
    "  \n",
    "    model = RandomForestClassifier(**params, class_weight='balanced', \n",
    "                                   n_jobs=-1, random_state=random_state)\n",
    "    \n",
    "    # Обучаем модель с помощью кросс-валидации.  \n",
    "    score = cross_val_score(model, X, y, cv=cv, scoring='f1', n_jobs=-1).mean()\n",
    "    \n",
    "    return -score\n",
    "\n",
    "trials = Trials()\n",
    "best=fmin(obj_func, \n",
    "          space=space, \n",
    "          algo=tpe.suggest, \n",
    "          max_evals=20, \n",
    "          trials=trials, \n",
    "          rstate=np.random.default_rng(42)\n",
    "         )\n",
    "print(f'Наилучшие значения гиперпараметров: {best}')"
   ]
  },
  {
   "cell_type": "code",
   "execution_count": 18,
   "metadata": {},
   "outputs": [
    {
     "name": "stdout",
     "output_type": "stream",
     "text": [
      "f1 кросс-валидация: 0.8004\n",
      "f1 тренировочная выборка: 0.9262\n",
      "f1 тестовая выборка: 0.7856\n"
     ]
    }
   ],
   "source": [
    "# Расчет метрики для лучших найденных гиперпараметров.  \n",
    "best_score = (np.array(list(x['result']['loss'] \n",
    "                            for x in trials.trials)) * (-1)).max()\n",
    "\n",
    "best_params = {\n",
    "    'n_estimators': int(best['n_estimators']),\n",
    "    'criterion': 'gini',\n",
    "    'max_depth': int(best['max_depth']),\n",
    "    'min_samples_leaf': int(best['min_samples_leaf'])\n",
    "}\n",
    "\n",
    "# Модель с лучшими параметрами.  \n",
    "hyperopt_rf = RandomForestClassifier(**best_params, class_weight='balanced',\n",
    "                                 n_jobs=-1, random_state=42)\n",
    "hyperopt_rf.fit(X_train, y_train)\n",
    "y_train_pred = hyperopt_rf.predict(X_train)\n",
    "y_test_pred = hyperopt_rf.predict(X_test)\n",
    "print('f1 кросс-валидация: {:.4f}'.format(best_score))\n",
    "print('f1 тренировочная выборка: {:.4f}'.format(f1_score(y_train, y_train_pred)))\n",
    "print('f1 тестовая выборка: {:.4f}'.format(f1_score(y_test, y_test_pred)))"
   ]
  },
  {
   "cell_type": "markdown",
   "metadata": {},
   "source": [
    "### **Optuna**\n",
    "----------------------\n",
    "#### Логистическая регрессия"
   ]
  },
  {
   "cell_type": "code",
   "execution_count": 19,
   "metadata": {},
   "outputs": [
    {
     "name": "stderr",
     "output_type": "stream",
     "text": [
      "\u001b[32m[I 2022-07-17 17:44:31,013]\u001b[0m A new study created in memory with name: LogisticRegression\u001b[0m\n",
      "\u001b[32m[I 2022-07-17 17:44:32,302]\u001b[0m Trial 0 finished with value: 0.7681021300072938 and parameters: {'solver': 'lbfgs', 'C': 0.7346740023932911}. Best is trial 0 with value: 0.7681021300072938.\u001b[0m\n",
      "\u001b[32m[I 2022-07-17 17:44:36,974]\u001b[0m Trial 1 finished with value: 0.7715489215295548 and parameters: {'solver': 'saga', 'penalty': 'l1', 'C': 0.8675143843171859}. Best is trial 1 with value: 0.7715489215295548.\u001b[0m\n",
      "\u001b[32m[I 2022-07-17 17:44:38,393]\u001b[0m Trial 2 finished with value: 0.7813910236649433 and parameters: {'solver': 'lbfgs', 'C': 0.03037864935284442}. Best is trial 2 with value: 0.7813910236649433.\u001b[0m\n",
      "\u001b[32m[I 2022-07-17 17:44:42,812]\u001b[0m Trial 3 finished with value: 0.7841523028368709 and parameters: {'solver': 'saga', 'penalty': 'l1', 'C': 0.1915704647548995}. Best is trial 3 with value: 0.7841523028368709.\u001b[0m\n",
      "\u001b[32m[I 2022-07-17 17:44:44,118]\u001b[0m Trial 4 finished with value: 0.7733707879246805 and parameters: {'solver': 'lbfgs', 'C': 0.4376255684556946}. Best is trial 3 with value: 0.7841523028368709.\u001b[0m\n",
      "\u001b[32m[I 2022-07-17 17:44:45,442]\u001b[0m Trial 5 finished with value: 0.776108556371398 and parameters: {'solver': 'lbfgs', 'C': 0.14809892204552141}. Best is trial 3 with value: 0.7841523028368709.\u001b[0m\n",
      "\u001b[32m[I 2022-07-17 17:44:46,728]\u001b[0m Trial 6 finished with value: 0.7717028685115505 and parameters: {'solver': 'lbfgs', 'C': 0.46150928437486555}. Best is trial 3 with value: 0.7841523028368709.\u001b[0m\n",
      "\u001b[32m[I 2022-07-17 17:44:49,901]\u001b[0m Trial 7 finished with value: 0.7815754026172513 and parameters: {'solver': 'saga', 'penalty': 'l2', 'C': 0.05598590859279775}. Best is trial 3 with value: 0.7841523028368709.\u001b[0m\n",
      "\u001b[32m[I 2022-07-17 17:44:53,035]\u001b[0m Trial 8 finished with value: 0.7688817633703092 and parameters: {'solver': 'saga', 'penalty': 'l2', 'C': 0.9659757127438138}. Best is trial 3 with value: 0.7841523028368709.\u001b[0m\n",
      "\u001b[32m[I 2022-07-17 17:44:56,202]\u001b[0m Trial 9 finished with value: 0.7719511374335756 and parameters: {'solver': 'saga', 'penalty': 'l2', 'C': 0.44575096880220527}. Best is trial 3 with value: 0.7841523028368709.\u001b[0m\n",
      "\u001b[32m[I 2022-07-17 17:45:00,418]\u001b[0m Trial 10 finished with value: 0.7846197141947542 and parameters: {'solver': 'saga', 'penalty': 'l1', 'C': 0.2615854836920348}. Best is trial 10 with value: 0.7846197141947542.\u001b[0m\n",
      "\u001b[32m[I 2022-07-17 17:45:04,618]\u001b[0m Trial 11 finished with value: 0.7859402011833572 and parameters: {'solver': 'saga', 'penalty': 'l1', 'C': 0.24731945619521178}. Best is trial 11 with value: 0.7859402011833572.\u001b[0m\n",
      "\u001b[32m[I 2022-07-17 17:45:08,734]\u001b[0m Trial 12 finished with value: 0.7848507297341935 and parameters: {'solver': 'saga', 'penalty': 'l1', 'C': 0.2728170123162879}. Best is trial 11 with value: 0.7859402011833572.\u001b[0m\n",
      "\u001b[32m[I 2022-07-17 17:45:12,892]\u001b[0m Trial 13 finished with value: 0.7837955110677746 and parameters: {'solver': 'saga', 'penalty': 'l1', 'C': 0.3070986795035735}. Best is trial 11 with value: 0.7859402011833572.\u001b[0m\n",
      "\u001b[32m[I 2022-07-17 17:45:17,348]\u001b[0m Trial 14 finished with value: 0.7751831330652322 and parameters: {'solver': 'saga', 'penalty': 'l1', 'C': 0.6538300130247419}. Best is trial 11 with value: 0.7859402011833572.\u001b[0m\n",
      "\u001b[32m[I 2022-07-17 17:45:21,572]\u001b[0m Trial 15 finished with value: 0.7821477104242335 and parameters: {'solver': 'saga', 'penalty': 'l1', 'C': 0.3304597902626988}. Best is trial 11 with value: 0.7859402011833572.\u001b[0m\n",
      "\u001b[32m[I 2022-07-17 17:45:25,832]\u001b[0m Trial 16 finished with value: 0.7769822831765243 and parameters: {'solver': 'saga', 'penalty': 'l1', 'C': 0.5761440491632637}. Best is trial 11 with value: 0.7859402011833572.\u001b[0m\n",
      "\u001b[32m[I 2022-07-17 17:45:29,952]\u001b[0m Trial 17 finished with value: 0.7833394823556532 and parameters: {'solver': 'saga', 'penalty': 'l1', 'C': 0.15299882092784717}. Best is trial 11 with value: 0.7859402011833572.\u001b[0m\n",
      "\u001b[32m[I 2022-07-17 17:45:34,117]\u001b[0m Trial 18 finished with value: 0.7818190828417035 and parameters: {'solver': 'saga', 'penalty': 'l1', 'C': 0.36438288906890415}. Best is trial 11 with value: 0.7859402011833572.\u001b[0m\n",
      "\u001b[32m[I 2022-07-17 17:45:38,570]\u001b[0m Trial 19 finished with value: 0.7769822831765243 and parameters: {'solver': 'saga', 'penalty': 'l1', 'C': 0.570575081203597}. Best is trial 11 with value: 0.7859402011833572.\u001b[0m\n"
     ]
    }
   ],
   "source": [
    "# Целевая функция\n",
    "def obj_func(trial):\n",
    "    # пространство гиперпараметров\n",
    "    solver = trial.suggest_categorical('solver', ['saga', 'lbfgs'])\n",
    "    if solver == 'saga':\n",
    "        penalty = trial.suggest_categorical('penalty', ['l1', 'l2'])\n",
    "    else:\n",
    "        penalty = 'l2'\n",
    "    C = trial.suggest_uniform('C', 0.01, 1)\n",
    "    \n",
    "    model = LogisticRegression(\n",
    "        solver=solver,\n",
    "        penalty=penalty,\n",
    "        C=C,\n",
    "        class_weight='balanced', \n",
    "        random_state=42, \n",
    "        max_iter=50\n",
    "    )    \n",
    "    \n",
    "    # Обучаем модель с помощью кросс-валидации    \n",
    "    score = cross_val_score(\n",
    "        model, X_train, y_train, cv=5, scoring='f1', n_jobs=-1).mean()\n",
    "    \n",
    "    return score\n",
    "\n",
    "# Поиск оптимальных гиперпараметров\n",
    "sampler = optuna.samplers.TPESampler(seed=42)\n",
    "study_lr = optuna.create_study(\n",
    "    sampler=sampler, study_name='LogisticRegression', direction='maximize')\n",
    "study_lr.optimize(obj_func, n_trials=20)\n",
    "\n",
    "\n",
    "# Модель с лучшими параметрами\n",
    "optuna_lr = LogisticRegression(\n",
    "    **study_lr.best_params, class_weight='balanced', n_jobs=-1,\n",
    "    random_state=42, max_iter=50\n",
    ")\n",
    "optuna_lr.fit(X_train, y_train)\n",
    "y_train_pred = optuna_lr.predict(X_train)\n",
    "y_test_pred = optuna_lr.predict(X_test)"
   ]
  },
  {
   "cell_type": "code",
   "execution_count": 20,
   "metadata": {},
   "outputs": [
    {
     "name": "stdout",
     "output_type": "stream",
     "text": [
      "Наилучшие значения гиперпараметров: {'solver': 'saga', 'penalty': 'l1', 'C': 0.24731945619521178}\n",
      "f1 кросс-валидация: 0.7859\n",
      "f1 тренировочная выборка: 0.8255\n",
      "f1 тестовая выборка: 0.7752\n"
     ]
    }
   ],
   "source": [
    "print('Наилучшие значения гиперпараметров: {}'.format(study_lr.best_params))\n",
    "print('f1 кросс-валидация: {:.4f}'.format(study_lr.best_value))\n",
    "print('f1 тренировочная выборка: {:.4f}'.format(f1_score(y_train, y_train_pred)))\n",
    "print('f1 тестовая выборка: {:.4f}'.format(f1_score(y_test, y_test_pred)))"
   ]
  },
  {
   "cell_type": "markdown",
   "metadata": {},
   "source": [
    "#### Случайный лес"
   ]
  },
  {
   "cell_type": "code",
   "execution_count": 21,
   "metadata": {},
   "outputs": [
    {
     "name": "stderr",
     "output_type": "stream",
     "text": [
      "\u001b[32m[I 2022-07-17 17:45:41,349]\u001b[0m A new study created in memory with name: RandomForestClassifier\u001b[0m\n",
      "\u001b[32m[I 2022-07-17 17:45:43,786]\u001b[0m Trial 0 finished with value: 0.7740914876214111 and parameters: {'n_estimators': 250, 'criterion': 'gini', 'max_depth': 60, 'min_samples_leaf': 17}. Best is trial 0 with value: 0.7740914876214111.\u001b[0m\n",
      "\u001b[32m[I 2022-07-17 17:45:45,088]\u001b[0m Trial 1 finished with value: 0.73056530178717 and parameters: {'n_estimators': 162, 'criterion': 'entropy', 'max_depth': 61, 'min_samples_leaf': 72}. Best is trial 0 with value: 0.7740914876214111.\u001b[0m\n",
      "\u001b[32m[I 2022-07-17 17:45:46,464]\u001b[0m Trial 2 finished with value: 0.7686941932476204 and parameters: {'n_estimators': 108, 'criterion': 'gini', 'max_depth': 22, 'min_samples_leaf': 20}. Best is trial 0 with value: 0.7740914876214111.\u001b[0m\n",
      "\u001b[32m[I 2022-07-17 17:45:48,240]\u001b[0m Trial 3 finished with value: 0.76194474106495 and parameters: {'n_estimators': 173, 'criterion': 'entropy', 'max_depth': 44, 'min_samples_leaf': 30}. Best is trial 0 with value: 0.7740914876214111.\u001b[0m\n",
      "\u001b[32m[I 2022-07-17 17:45:51,001]\u001b[0m Trial 4 finished with value: 0.7426859769027044 and parameters: {'n_estimators': 345, 'criterion': 'entropy', 'max_depth': 37, 'min_samples_leaf': 47}. Best is trial 0 with value: 0.7740914876214111.\u001b[0m\n",
      "\u001b[32m[I 2022-07-17 17:45:56,633]\u001b[0m Trial 5 finished with value: 0.8055510309035545 and parameters: {'n_estimators': 414, 'criterion': 'entropy', 'max_depth': 60, 'min_samples_leaf': 6}. Best is trial 5 with value: 0.8055510309035545.\u001b[0m\n",
      "\u001b[32m[I 2022-07-17 17:45:58,727]\u001b[0m Trial 6 finished with value: 0.7251780436354248 and parameters: {'n_estimators': 343, 'criterion': 'gini', 'max_depth': 95, 'min_samples_leaf': 97}. Best is trial 5 with value: 0.8055510309035545.\u001b[0m\n",
      "\u001b[32m[I 2022-07-17 17:46:01,779]\u001b[0m Trial 7 finished with value: 0.7449817198471254 and parameters: {'n_estimators': 424, 'criterion': 'gini', 'max_depth': 69, 'min_samples_leaf': 45}. Best is trial 5 with value: 0.8055510309035545.\u001b[0m\n",
      "\u001b[32m[I 2022-07-17 17:46:03,263]\u001b[0m Trial 8 finished with value: 0.762896647537767 and parameters: {'n_estimators': 148, 'criterion': 'gini', 'max_depth': 91, 'min_samples_leaf': 27}. Best is trial 5 with value: 0.8055510309035545.\u001b[0m\n",
      "\u001b[32m[I 2022-07-17 17:46:06,927]\u001b[0m Trial 9 finished with value: 0.7718671800543558 and parameters: {'n_estimators': 365, 'criterion': 'entropy', 'max_depth': 55, 'min_samples_leaf': 20}. Best is trial 5 with value: 0.8055510309035545.\u001b[0m\n",
      "\u001b[32m[I 2022-07-17 17:46:08,685]\u001b[0m Trial 10 finished with value: 0.7013452932472379 and parameters: {'n_estimators': 490, 'criterion': 'entropy', 'max_depth': 1, 'min_samples_leaf': 3}. Best is trial 5 with value: 0.8055510309035545.\u001b[0m\n",
      "\u001b[32m[I 2022-07-17 17:46:12,259]\u001b[0m Trial 11 finished with value: 0.8113320581255555 and parameters: {'n_estimators': 249, 'criterion': 'gini', 'max_depth': 75, 'min_samples_leaf': 3}. Best is trial 11 with value: 0.8113320581255555.\u001b[0m\n",
      "\u001b[32m[I 2022-07-17 17:46:16,140]\u001b[0m Trial 12 finished with value: 0.8202584913859567 and parameters: {'n_estimators': 245, 'criterion': 'gini', 'max_depth': 78, 'min_samples_leaf': 2}. Best is trial 12 with value: 0.8202584913859567.\u001b[0m\n",
      "\u001b[32m[I 2022-07-17 17:46:18,072]\u001b[0m Trial 13 finished with value: 0.7410021746378825 and parameters: {'n_estimators': 253, 'criterion': 'gini', 'max_depth': 81, 'min_samples_leaf': 63}. Best is trial 12 with value: 0.8202584913859567.\u001b[0m\n",
      "\u001b[32m[I 2022-07-17 17:46:21,875]\u001b[0m Trial 14 finished with value: 0.8202584913859567 and parameters: {'n_estimators': 245, 'criterion': 'gini', 'max_depth': 77, 'min_samples_leaf': 2}. Best is trial 12 with value: 0.8202584913859567.\u001b[0m\n",
      "\u001b[32m[I 2022-07-17 17:46:23,865]\u001b[0m Trial 15 finished with value: 0.7482202107862195 and parameters: {'n_estimators': 221, 'criterion': 'gini', 'max_depth': 100, 'min_samples_leaf': 36}. Best is trial 12 with value: 0.8202584913859567.\u001b[0m\n",
      "\u001b[32m[I 2022-07-17 17:46:25,905]\u001b[0m Trial 16 finished with value: 0.7380852490113512 and parameters: {'n_estimators': 300, 'criterion': 'gini', 'max_depth': 82, 'min_samples_leaf': 65}. Best is trial 12 with value: 0.8202584913859567.\u001b[0m\n",
      "\u001b[32m[I 2022-07-17 17:46:28,242]\u001b[0m Trial 17 finished with value: 0.7845558926519132 and parameters: {'n_estimators': 202, 'criterion': 'gini', 'max_depth': 85, 'min_samples_leaf': 12}. Best is trial 12 with value: 0.8202584913859567.\u001b[0m\n",
      "\u001b[32m[I 2022-07-17 17:46:30,241]\u001b[0m Trial 18 finished with value: 0.7235633115857268 and parameters: {'n_estimators': 294, 'criterion': 'gini', 'max_depth': 69, 'min_samples_leaf': 99}. Best is trial 12 with value: 0.8202584913859567.\u001b[0m\n",
      "\u001b[32m[I 2022-07-17 17:46:31,170]\u001b[0m Trial 19 finished with value: 0.7298951815435059 and parameters: {'n_estimators': 105, 'criterion': 'gini', 'max_depth': 30, 'min_samples_leaf': 86}. Best is trial 12 with value: 0.8202584913859567.\u001b[0m\n"
     ]
    }
   ],
   "source": [
    "# Целевая функция\n",
    "def obj_func(trial):\n",
    "    # пространство гиперпараметров\n",
    "    n_estimators = trial.suggest_int('n_estimators', 100, 500, 1)\n",
    "    criterion = trial.suggest_categorical('criterion', ['gini', 'entropy'])\n",
    "    max_depth = trial.suggest_int('max_depth', 1, 100, 1)\n",
    "    min_samples_leaf = trial.suggest_int('min_samples_leaf', 2, 100, 1)\n",
    "  \n",
    "    # модель\n",
    "    model = RandomForestClassifier(\n",
    "        n_estimators=n_estimators,\n",
    "        criterion=criterion,\n",
    "        max_depth=max_depth,\n",
    "        min_samples_leaf=min_samples_leaf,\n",
    "        class_weight='balanced', n_jobs=-1,\n",
    "        random_state=42\n",
    "    )\n",
    "  \n",
    "    # Обучаем модель с помощью кросс-валидации    \n",
    "    score = cross_val_score(\n",
    "        model, X_train, y_train, cv=5, scoring='f1', n_jobs=-1).mean()\n",
    "    \n",
    "    return score\n",
    "\n",
    "# Поиск оптимальных гиперпараметров\n",
    "sampler = optuna.samplers.TPESampler(seed=42)\n",
    "study_rf = optuna.create_study(\n",
    "    sampler=sampler, study_name='RandomForestClassifier', direction='maximize')\n",
    "study_rf.optimize(obj_func, n_trials=20)\n",
    "\n",
    "\n",
    "# Модель с лучшими параметрами  \n",
    "optuna_rf = RandomForestClassifier(\n",
    "    **study_rf.best_params, class_weight='balanced', n_jobs=-1,\n",
    "    random_state=42\n",
    ")\n",
    "optuna_rf.fit(X_train, y_train)\n",
    "y_train_pred = optuna_rf.predict(X_train)\n",
    "y_test_pred = optuna_rf.predict(X_test)"
   ]
  },
  {
   "cell_type": "code",
   "execution_count": 22,
   "metadata": {},
   "outputs": [
    {
     "name": "stdout",
     "output_type": "stream",
     "text": [
      "Наилучшие значения гиперпараметров: {'n_estimators': 245, 'criterion': 'gini', 'max_depth': 78, 'min_samples_leaf': 2}\n",
      "f1 кросс-валидация: 0.8203\n",
      "f1 тренировочная выборка: 0.9929\n",
      "f1 тестовая выборка: 0.8073\n"
     ]
    }
   ],
   "source": [
    "print('Наилучшие значения гиперпараметров: {}'.format(study_rf.best_params))\n",
    "print('f1 кросс-валидация: {:.4f}'.format(study_rf.best_value))\n",
    "print('f1 тренировочная выборка: {:.4f}'.format(f1_score(y_train, y_train_pred)))\n",
    "print('f1 тестовая выборка: {:.4f}'.format(f1_score(y_test, y_test_pred)))"
   ]
  }
 ],
 "metadata": {
  "kernelspec": {
   "display_name": "Python 3.10.0 64-bit",
   "language": "python",
   "name": "python3"
  },
  "language_info": {
   "codemirror_mode": {
    "name": "ipython",
    "version": 3
   },
   "file_extension": ".py",
   "mimetype": "text/x-python",
   "name": "python",
   "nbconvert_exporter": "python",
   "pygments_lexer": "ipython3",
   "version": "3.10.0"
  },
  "orig_nbformat": 4,
  "vscode": {
   "interpreter": {
    "hash": "d488093d919f573c925b0a84f2a24fea75905f9dd1b6664dfb65159487c96672"
   }
  }
 },
 "nbformat": 4,
 "nbformat_minor": 2
}
