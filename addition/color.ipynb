{
 "cells": [
  {
   "attachments": {},
   "cell_type": "markdown",
   "metadata": {},
   "source": [
    "<p style=\"color: #F9A200; font-weight: bold; text-align: center; font-size: 1.8em;\">Анализ ВВП Республики Гана</p>\n",
    "<p style=\"color: #9D6600; font-weight: bold; text-align: center; font-size: 1.5em;\">Blue</p>\n"
   ]
  }
 ],
 "metadata": {
  "language_info": {
   "name": "python"
  },
  "orig_nbformat": 4
 },
 "nbformat": 4,
 "nbformat_minor": 2
}
