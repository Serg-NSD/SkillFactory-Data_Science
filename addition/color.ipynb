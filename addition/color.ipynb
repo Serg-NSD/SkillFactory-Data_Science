{
 "cells": [
  {
   "attachments": {},
   "cell_type": "markdown",
   "metadata": {},
   "source": [
    "<span style=\"color: red; font-weight: bold; font-size: 1.1em;\">Red</span>\n",
    "<p style=\"color: blue; font-weight: bold; font-size: 1.5em;\">Blue</p>\n"
   ]
  }
 ],
 "metadata": {
  "language_info": {
   "name": "python"
  },
  "orig_nbformat": 4
 },
 "nbformat": 4,
 "nbformat_minor": 2
}
