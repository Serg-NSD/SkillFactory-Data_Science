{
 "cells": [
  {
   "attachments": {},
   "cell_type": "markdown",
   "metadata": {},
   "source": [
    "<p style=\"color: #C78100; font-weight: bold; text-align: center; font-size: 1.8em;\">Анализ ВВП Республики Гана</p>",
    "<p style=\"color: #318CE7; font-weight: bold; text-align: center; font-size: 1.5em;\">Практическая работа</p>\n"
   ]
  }
 ],
 "metadata": {
  "language_info": {
   "name": "python"
  },
  "orig_nbformat": 4
 },
 "nbformat": 4,
 "nbformat_minor": 2
}
