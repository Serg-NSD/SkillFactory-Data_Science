{
 "cells": [
  {
   "attachments": {},
   "cell_type": "markdown",
   "metadata": {},
   "source": [
    "<p style=\"color: #DEB500; font-weight: bold; text-align: center; font-family: sans-serif; font-size: 2.0em;\">Анализ ВВП Республики Гана</p>",
    "<p style=\"color: #318CE7; font-weight: bold; text-align: center; font-size: 1.9em;\">Практическая работа</p>\n"
   ]
  }
 ],
 "metadata": {
  "language_info": {
   "name": "python"
  },
  "orig_nbformat": 4
 },
 "nbformat": 4,
 "nbformat_minor": 2
}
